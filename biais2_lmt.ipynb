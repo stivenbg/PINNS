{
  "cells": [
    {
      "cell_type": "markdown",
      "metadata": {
        "id": "view-in-github",
        "colab_type": "text"
      },
      "source": [
        "<a href=\"https://colab.research.google.com/github/stivenbg/PINNS/blob/main/biais2_lmt.ipynb\" target=\"_parent\"><img src=\"https://colab.research.google.com/assets/colab-badge.svg\" alt=\"Open In Colab\"/></a>"
      ]
    },
    {
      "cell_type": "code",
      "execution_count": null,
      "metadata": {
        "id": "QBHx9b0LtVDZ"
      },
      "outputs": [],
      "source": [
        "#Mon code fonctionne correctement sur la prédiction de U. Maintenant je l'adapte à éta. niveau fonction coût : La dimension FEM c'est ok. La dimension BC pas ok. La dimension PDE pas ok."
      ]
    },
    {
      "cell_type": "code",
      "source": [
        "pip install PyDrive"
      ],
      "metadata": {
        "id": "813G5z2iETsD",
        "colab": {
          "base_uri": "https://localhost:8080/"
        },
        "outputId": "c7737e71-263e-4f14-a2a3-30429d4dfe18"
      },
      "execution_count": 1,
      "outputs": [
        {
          "output_type": "stream",
          "name": "stdout",
          "text": [
            "Looking in indexes: https://pypi.org/simple, https://us-python.pkg.dev/colab-wheels/public/simple/\n",
            "Requirement already satisfied: PyDrive in /usr/local/lib/python3.8/dist-packages (1.3.1)\n",
            "Requirement already satisfied: PyYAML>=3.0 in /usr/local/lib/python3.8/dist-packages (from PyDrive) (6.0)\n",
            "Requirement already satisfied: google-api-python-client>=1.2 in /usr/local/lib/python3.8/dist-packages (from PyDrive) (1.12.11)\n",
            "Requirement already satisfied: oauth2client>=4.0.0 in /usr/local/lib/python3.8/dist-packages (from PyDrive) (4.1.3)\n",
            "Requirement already satisfied: httplib2<1dev,>=0.15.0 in /usr/local/lib/python3.8/dist-packages (from google-api-python-client>=1.2->PyDrive) (0.17.4)\n",
            "Requirement already satisfied: google-api-core<3dev,>=1.21.0 in /usr/local/lib/python3.8/dist-packages (from google-api-python-client>=1.2->PyDrive) (2.8.2)\n",
            "Requirement already satisfied: google-auth-httplib2>=0.0.3 in /usr/local/lib/python3.8/dist-packages (from google-api-python-client>=1.2->PyDrive) (0.0.4)\n",
            "Requirement already satisfied: uritemplate<4dev,>=3.0.0 in /usr/local/lib/python3.8/dist-packages (from google-api-python-client>=1.2->PyDrive) (3.0.1)\n",
            "Requirement already satisfied: google-auth<3dev,>=1.16.0 in /usr/local/lib/python3.8/dist-packages (from google-api-python-client>=1.2->PyDrive) (2.15.0)\n",
            "Requirement already satisfied: six<2dev,>=1.13.0 in /usr/local/lib/python3.8/dist-packages (from google-api-python-client>=1.2->PyDrive) (1.15.0)\n",
            "Requirement already satisfied: requests<3.0.0dev,>=2.18.0 in /usr/local/lib/python3.8/dist-packages (from google-api-core<3dev,>=1.21.0->google-api-python-client>=1.2->PyDrive) (2.23.0)\n",
            "Requirement already satisfied: protobuf<5.0.0dev,>=3.15.0 in /usr/local/lib/python3.8/dist-packages (from google-api-core<3dev,>=1.21.0->google-api-python-client>=1.2->PyDrive) (3.19.6)\n",
            "Requirement already satisfied: googleapis-common-protos<2.0dev,>=1.56.2 in /usr/local/lib/python3.8/dist-packages (from google-api-core<3dev,>=1.21.0->google-api-python-client>=1.2->PyDrive) (1.57.0)\n",
            "Requirement already satisfied: rsa<5,>=3.1.4 in /usr/local/lib/python3.8/dist-packages (from google-auth<3dev,>=1.16.0->google-api-python-client>=1.2->PyDrive) (4.9)\n",
            "Requirement already satisfied: cachetools<6.0,>=2.0.0 in /usr/local/lib/python3.8/dist-packages (from google-auth<3dev,>=1.16.0->google-api-python-client>=1.2->PyDrive) (5.2.0)\n",
            "Requirement already satisfied: pyasn1-modules>=0.2.1 in /usr/local/lib/python3.8/dist-packages (from google-auth<3dev,>=1.16.0->google-api-python-client>=1.2->PyDrive) (0.2.8)\n",
            "Requirement already satisfied: pyasn1>=0.1.7 in /usr/local/lib/python3.8/dist-packages (from oauth2client>=4.0.0->PyDrive) (0.4.8)\n",
            "Requirement already satisfied: certifi>=2017.4.17 in /usr/local/lib/python3.8/dist-packages (from requests<3.0.0dev,>=2.18.0->google-api-core<3dev,>=1.21.0->google-api-python-client>=1.2->PyDrive) (2022.9.24)\n",
            "Requirement already satisfied: urllib3!=1.25.0,!=1.25.1,<1.26,>=1.21.1 in /usr/local/lib/python3.8/dist-packages (from requests<3.0.0dev,>=2.18.0->google-api-core<3dev,>=1.21.0->google-api-python-client>=1.2->PyDrive) (1.24.3)\n",
            "Requirement already satisfied: idna<3,>=2.5 in /usr/local/lib/python3.8/dist-packages (from requests<3.0.0dev,>=2.18.0->google-api-core<3dev,>=1.21.0->google-api-python-client>=1.2->PyDrive) (2.10)\n",
            "Requirement already satisfied: chardet<4,>=3.0.2 in /usr/local/lib/python3.8/dist-packages (from requests<3.0.0dev,>=2.18.0->google-api-core<3dev,>=1.21.0->google-api-python-client>=1.2->PyDrive) (3.0.4)\n"
          ]
        }
      ]
    },
    {
      "cell_type": "code",
      "source": [
        "from pydrive.auth import GoogleAuth\n",
        "from pydrive.drive import GoogleDrive\n"
      ],
      "metadata": {
        "id": "bkX-hH9YFz1D"
      },
      "execution_count": 10,
      "outputs": []
    },
    {
      "cell_type": "code",
      "source": [
        "gauth=GoogleAuth()\n",
        "drive = GoogleDrive(gauth)"
      ],
      "metadata": {
        "id": "4pKgWMraGM-V"
      },
      "execution_count": 12,
      "outputs": []
    },
    {
      "cell_type": "code",
      "source": [
        "gauth.LocalWebserverAuth()"
      ],
      "metadata": {
        "colab": {
          "base_uri": "https://localhost:8080/",
          "height": 520
        },
        "id": "zWB9B8DHG3fq",
        "outputId": "8954e550-72c6-41c7-c49e-eecb965321dc"
      },
      "execution_count": 13,
      "outputs": [
        {
          "output_type": "error",
          "ename": "InvalidConfigError",
          "evalue": "ignored",
          "traceback": [
            "\u001b[0;31m---------------------------------------------------------------------------\u001b[0m",
            "\u001b[0;31mFileNotFoundError\u001b[0m                         Traceback (most recent call last)",
            "\u001b[0;32m/usr/local/lib/python3.8/dist-packages/oauth2client/clientsecrets.py\u001b[0m in \u001b[0;36m_loadfile\u001b[0;34m(filename)\u001b[0m\n\u001b[1;32m    120\u001b[0m     \u001b[0;32mtry\u001b[0m\u001b[0;34m:\u001b[0m\u001b[0;34m\u001b[0m\u001b[0;34m\u001b[0m\u001b[0m\n\u001b[0;32m--> 121\u001b[0;31m         \u001b[0;32mwith\u001b[0m \u001b[0mopen\u001b[0m\u001b[0;34m(\u001b[0m\u001b[0mfilename\u001b[0m\u001b[0;34m,\u001b[0m \u001b[0;34m'r'\u001b[0m\u001b[0;34m)\u001b[0m \u001b[0;32mas\u001b[0m \u001b[0mfp\u001b[0m\u001b[0;34m:\u001b[0m\u001b[0;34m\u001b[0m\u001b[0;34m\u001b[0m\u001b[0m\n\u001b[0m\u001b[1;32m    122\u001b[0m             \u001b[0mobj\u001b[0m \u001b[0;34m=\u001b[0m \u001b[0mjson\u001b[0m\u001b[0;34m.\u001b[0m\u001b[0mload\u001b[0m\u001b[0;34m(\u001b[0m\u001b[0mfp\u001b[0m\u001b[0;34m)\u001b[0m\u001b[0;34m\u001b[0m\u001b[0;34m\u001b[0m\u001b[0m\n",
            "\u001b[0;31mFileNotFoundError\u001b[0m: [Errno 2] No such file or directory: 'client_secrets.json'",
            "\nDuring handling of the above exception, another exception occurred:\n",
            "\u001b[0;31mInvalidClientSecretsError\u001b[0m                 Traceback (most recent call last)",
            "\u001b[0;32m/usr/local/lib/python3.8/dist-packages/pydrive/auth.py\u001b[0m in \u001b[0;36mLoadClientConfigFile\u001b[0;34m(self, client_config_file)\u001b[0m\n\u001b[1;32m    385\u001b[0m     \u001b[0;32mtry\u001b[0m\u001b[0;34m:\u001b[0m\u001b[0;34m\u001b[0m\u001b[0;34m\u001b[0m\u001b[0m\n\u001b[0;32m--> 386\u001b[0;31m       \u001b[0mclient_type\u001b[0m\u001b[0;34m,\u001b[0m \u001b[0mclient_info\u001b[0m \u001b[0;34m=\u001b[0m \u001b[0mclientsecrets\u001b[0m\u001b[0;34m.\u001b[0m\u001b[0mloadfile\u001b[0m\u001b[0;34m(\u001b[0m\u001b[0mclient_config_file\u001b[0m\u001b[0;34m)\u001b[0m\u001b[0;34m\u001b[0m\u001b[0;34m\u001b[0m\u001b[0m\n\u001b[0m\u001b[1;32m    387\u001b[0m     \u001b[0;32mexcept\u001b[0m \u001b[0mclientsecrets\u001b[0m\u001b[0;34m.\u001b[0m\u001b[0mInvalidClientSecretsError\u001b[0m \u001b[0;32mas\u001b[0m \u001b[0merror\u001b[0m\u001b[0;34m:\u001b[0m\u001b[0;34m\u001b[0m\u001b[0;34m\u001b[0m\u001b[0m\n",
            "\u001b[0;32m/usr/local/lib/python3.8/dist-packages/oauth2client/clientsecrets.py\u001b[0m in \u001b[0;36mloadfile\u001b[0;34m(filename, cache)\u001b[0m\n\u001b[1;32m    164\u001b[0m     \u001b[0;32mif\u001b[0m \u001b[0;32mnot\u001b[0m \u001b[0mcache\u001b[0m\u001b[0;34m:\u001b[0m\u001b[0;34m\u001b[0m\u001b[0;34m\u001b[0m\u001b[0m\n\u001b[0;32m--> 165\u001b[0;31m         \u001b[0;32mreturn\u001b[0m \u001b[0m_loadfile\u001b[0m\u001b[0;34m(\u001b[0m\u001b[0mfilename\u001b[0m\u001b[0;34m)\u001b[0m\u001b[0;34m\u001b[0m\u001b[0;34m\u001b[0m\u001b[0m\n\u001b[0m\u001b[1;32m    166\u001b[0m \u001b[0;34m\u001b[0m\u001b[0m\n",
            "\u001b[0;32m/usr/local/lib/python3.8/dist-packages/oauth2client/clientsecrets.py\u001b[0m in \u001b[0;36m_loadfile\u001b[0;34m(filename)\u001b[0m\n\u001b[1;32m    123\u001b[0m     \u001b[0;32mexcept\u001b[0m \u001b[0mIOError\u001b[0m \u001b[0;32mas\u001b[0m \u001b[0mexc\u001b[0m\u001b[0;34m:\u001b[0m\u001b[0;34m\u001b[0m\u001b[0;34m\u001b[0m\u001b[0m\n\u001b[0;32m--> 124\u001b[0;31m         raise InvalidClientSecretsError('Error opening file', exc.filename,\n\u001b[0m\u001b[1;32m    125\u001b[0m                                         exc.strerror, exc.errno)\n",
            "\u001b[0;31mInvalidClientSecretsError\u001b[0m: ('Error opening file', 'client_secrets.json', 'No such file or directory', 2)",
            "\nDuring handling of the above exception, another exception occurred:\n",
            "\u001b[0;31mInvalidConfigError\u001b[0m                        Traceback (most recent call last)",
            "\u001b[0;32m<ipython-input-13-792f41ab7318>\u001b[0m in \u001b[0;36m<module>\u001b[0;34m\u001b[0m\n\u001b[0;32m----> 1\u001b[0;31m \u001b[0mgauth\u001b[0m\u001b[0;34m.\u001b[0m\u001b[0mLocalWebserverAuth\u001b[0m\u001b[0;34m(\u001b[0m\u001b[0;34m)\u001b[0m\u001b[0;34m\u001b[0m\u001b[0;34m\u001b[0m\u001b[0m\n\u001b[0m",
            "\u001b[0;32m/usr/local/lib/python3.8/dist-packages/google/colab/_import_hooks/_pydrive.py\u001b[0m in \u001b[0;36mPatchedLocalWebServerAuth\u001b[0;34m(self, *args, **kwargs)\u001b[0m\n\u001b[1;32m     55\u001b[0m             \u001b[0mself\u001b[0m\u001b[0;34m.\u001b[0m\u001b[0mcredentials\u001b[0m\u001b[0;34m.\u001b[0m\u001b[0mrefresh\u001b[0m\u001b[0;34m(\u001b[0m\u001b[0mhttplib2\u001b[0m\u001b[0;34m.\u001b[0m\u001b[0mHttp\u001b[0m\u001b[0;34m(\u001b[0m\u001b[0;34m)\u001b[0m\u001b[0;34m)\u001b[0m\u001b[0;34m\u001b[0m\u001b[0;34m\u001b[0m\u001b[0m\n\u001b[1;32m     56\u001b[0m             \u001b[0;32mreturn\u001b[0m\u001b[0;34m\u001b[0m\u001b[0;34m\u001b[0m\u001b[0m\n\u001b[0;32m---> 57\u001b[0;31m           \u001b[0;32mreturn\u001b[0m \u001b[0morig_local_webserver_auth\u001b[0m\u001b[0;34m(\u001b[0m\u001b[0mself\u001b[0m\u001b[0;34m,\u001b[0m \u001b[0;34m*\u001b[0m\u001b[0margs\u001b[0m\u001b[0;34m,\u001b[0m \u001b[0;34m**\u001b[0m\u001b[0mkwargs\u001b[0m\u001b[0;34m)\u001b[0m\u001b[0;34m\u001b[0m\u001b[0;34m\u001b[0m\u001b[0m\n\u001b[0m\u001b[1;32m     58\u001b[0m \u001b[0;34m\u001b[0m\u001b[0m\n\u001b[1;32m     59\u001b[0m         \u001b[0mpydrive_auth_module\u001b[0m\u001b[0;34m.\u001b[0m\u001b[0mGoogleAuth\u001b[0m\u001b[0;34m.\u001b[0m\u001b[0mLocalWebserverAuth\u001b[0m \u001b[0;34m=\u001b[0m \u001b[0mPatchedLocalWebServerAuth\u001b[0m\u001b[0;34m\u001b[0m\u001b[0;34m\u001b[0m\u001b[0m\n",
            "\u001b[0;32m/usr/local/lib/python3.8/dist-packages/pydrive/auth.py\u001b[0m in \u001b[0;36m_decorated\u001b[0;34m(self, *args, **kwargs)\u001b[0m\n\u001b[1;32m    111\u001b[0m       \u001b[0mself\u001b[0m\u001b[0;34m.\u001b[0m\u001b[0mLoadCredentials\u001b[0m\u001b[0;34m(\u001b[0m\u001b[0;34m)\u001b[0m\u001b[0;34m\u001b[0m\u001b[0;34m\u001b[0m\u001b[0m\n\u001b[1;32m    112\u001b[0m     \u001b[0;32mif\u001b[0m \u001b[0mself\u001b[0m\u001b[0;34m.\u001b[0m\u001b[0mflow\u001b[0m \u001b[0;32mis\u001b[0m \u001b[0;32mNone\u001b[0m\u001b[0;34m:\u001b[0m\u001b[0;34m\u001b[0m\u001b[0;34m\u001b[0m\u001b[0m\n\u001b[0;32m--> 113\u001b[0;31m       \u001b[0mself\u001b[0m\u001b[0;34m.\u001b[0m\u001b[0mGetFlow\u001b[0m\u001b[0;34m(\u001b[0m\u001b[0;34m)\u001b[0m\u001b[0;34m\u001b[0m\u001b[0;34m\u001b[0m\u001b[0m\n\u001b[0m\u001b[1;32m    114\u001b[0m     \u001b[0;32mif\u001b[0m \u001b[0mself\u001b[0m\u001b[0;34m.\u001b[0m\u001b[0mcredentials\u001b[0m \u001b[0;32mis\u001b[0m \u001b[0;32mNone\u001b[0m\u001b[0;34m:\u001b[0m\u001b[0;34m\u001b[0m\u001b[0;34m\u001b[0m\u001b[0m\n\u001b[1;32m    115\u001b[0m       \u001b[0mcode\u001b[0m \u001b[0;34m=\u001b[0m \u001b[0mdecoratee\u001b[0m\u001b[0;34m(\u001b[0m\u001b[0mself\u001b[0m\u001b[0;34m,\u001b[0m \u001b[0;34m*\u001b[0m\u001b[0margs\u001b[0m\u001b[0;34m,\u001b[0m \u001b[0;34m**\u001b[0m\u001b[0mkwargs\u001b[0m\u001b[0;34m)\u001b[0m\u001b[0;34m\u001b[0m\u001b[0;34m\u001b[0m\u001b[0m\n",
            "\u001b[0;32m/usr/local/lib/python3.8/dist-packages/pydrive/auth.py\u001b[0m in \u001b[0;36mGetFlow\u001b[0;34m(self)\u001b[0m\n\u001b[1;32m    441\u001b[0m     if not all(config in self.client_config \\\n\u001b[1;32m    442\u001b[0m                for config in self.CLIENT_CONFIGS_LIST):\n\u001b[0;32m--> 443\u001b[0;31m       \u001b[0mself\u001b[0m\u001b[0;34m.\u001b[0m\u001b[0mLoadClientConfig\u001b[0m\u001b[0;34m(\u001b[0m\u001b[0;34m)\u001b[0m\u001b[0;34m\u001b[0m\u001b[0;34m\u001b[0m\u001b[0m\n\u001b[0m\u001b[1;32m    444\u001b[0m     constructor_kwargs = {\n\u001b[1;32m    445\u001b[0m         \u001b[0;34m'redirect_uri'\u001b[0m\u001b[0;34m:\u001b[0m \u001b[0mself\u001b[0m\u001b[0;34m.\u001b[0m\u001b[0mclient_config\u001b[0m\u001b[0;34m[\u001b[0m\u001b[0;34m'redirect_uri'\u001b[0m\u001b[0;34m]\u001b[0m\u001b[0;34m,\u001b[0m\u001b[0;34m\u001b[0m\u001b[0;34m\u001b[0m\u001b[0m\n",
            "\u001b[0;32m/usr/local/lib/python3.8/dist-packages/pydrive/auth.py\u001b[0m in \u001b[0;36mLoadClientConfig\u001b[0;34m(self, backend)\u001b[0m\n\u001b[1;32m    364\u001b[0m         \u001b[0;32mraise\u001b[0m \u001b[0mInvalidConfigError\u001b[0m\u001b[0;34m(\u001b[0m\u001b[0;34m'Please specify client config backend'\u001b[0m\u001b[0;34m)\u001b[0m\u001b[0;34m\u001b[0m\u001b[0;34m\u001b[0m\u001b[0m\n\u001b[1;32m    365\u001b[0m     \u001b[0;32mif\u001b[0m \u001b[0mbackend\u001b[0m \u001b[0;34m==\u001b[0m \u001b[0;34m'file'\u001b[0m\u001b[0;34m:\u001b[0m\u001b[0;34m\u001b[0m\u001b[0;34m\u001b[0m\u001b[0m\n\u001b[0;32m--> 366\u001b[0;31m       \u001b[0mself\u001b[0m\u001b[0;34m.\u001b[0m\u001b[0mLoadClientConfigFile\u001b[0m\u001b[0;34m(\u001b[0m\u001b[0;34m)\u001b[0m\u001b[0;34m\u001b[0m\u001b[0;34m\u001b[0m\u001b[0m\n\u001b[0m\u001b[1;32m    367\u001b[0m     \u001b[0;32melif\u001b[0m \u001b[0mbackend\u001b[0m \u001b[0;34m==\u001b[0m \u001b[0;34m'settings'\u001b[0m\u001b[0;34m:\u001b[0m\u001b[0;34m\u001b[0m\u001b[0;34m\u001b[0m\u001b[0m\n\u001b[1;32m    368\u001b[0m       \u001b[0mself\u001b[0m\u001b[0;34m.\u001b[0m\u001b[0mLoadClientConfigSettings\u001b[0m\u001b[0;34m(\u001b[0m\u001b[0;34m)\u001b[0m\u001b[0;34m\u001b[0m\u001b[0;34m\u001b[0m\u001b[0m\n",
            "\u001b[0;32m/usr/local/lib/python3.8/dist-packages/pydrive/auth.py\u001b[0m in \u001b[0;36mLoadClientConfigFile\u001b[0;34m(self, client_config_file)\u001b[0m\n\u001b[1;32m    386\u001b[0m       \u001b[0mclient_type\u001b[0m\u001b[0;34m,\u001b[0m \u001b[0mclient_info\u001b[0m \u001b[0;34m=\u001b[0m \u001b[0mclientsecrets\u001b[0m\u001b[0;34m.\u001b[0m\u001b[0mloadfile\u001b[0m\u001b[0;34m(\u001b[0m\u001b[0mclient_config_file\u001b[0m\u001b[0;34m)\u001b[0m\u001b[0;34m\u001b[0m\u001b[0;34m\u001b[0m\u001b[0m\n\u001b[1;32m    387\u001b[0m     \u001b[0;32mexcept\u001b[0m \u001b[0mclientsecrets\u001b[0m\u001b[0;34m.\u001b[0m\u001b[0mInvalidClientSecretsError\u001b[0m \u001b[0;32mas\u001b[0m \u001b[0merror\u001b[0m\u001b[0;34m:\u001b[0m\u001b[0;34m\u001b[0m\u001b[0;34m\u001b[0m\u001b[0m\n\u001b[0;32m--> 388\u001b[0;31m       \u001b[0;32mraise\u001b[0m \u001b[0mInvalidConfigError\u001b[0m\u001b[0;34m(\u001b[0m\u001b[0;34m'Invalid client secrets file %s'\u001b[0m \u001b[0;34m%\u001b[0m \u001b[0merror\u001b[0m\u001b[0;34m)\u001b[0m\u001b[0;34m\u001b[0m\u001b[0;34m\u001b[0m\u001b[0m\n\u001b[0m\u001b[1;32m    389\u001b[0m     if not client_type in (clientsecrets.TYPE_WEB,\n\u001b[1;32m    390\u001b[0m                            clientsecrets.TYPE_INSTALLED):\n",
            "\u001b[0;31mInvalidConfigError\u001b[0m: Invalid client secrets file ('Error opening file', 'client_secrets.json', 'No such file or directory', 2)"
          ]
        }
      ]
    },
    {
      "cell_type": "code",
      "source": [
        "\n",
        "from pydrive.drive import GoogleDrive\n",
        "drive = GoogleDrive(gauth)"
      ],
      "metadata": {
        "id": "EChsBu0yHCHR"
      },
      "execution_count": 14,
      "outputs": []
    },
    {
      "cell_type": "code",
      "source": [
        "# Create folder.\n",
        "folder_metadata = {\n",
        "    'title' : '<your folder name here>',\n",
        "    # The mimetype defines this new file as a folder, so don't change this.\n",
        "    'mimeType' : 'application/vnd.google-apps.folder'\n",
        "}\n",
        "folder = drive.CreateFile(folder_metadata)\n",
        "folder.Upload()\n",
        "\n",
        "\n",
        "\n",
        "# Get folder info and print to screen.\n",
        "folder_title = folder['title']\n",
        "folder_id = folder['id']\n",
        "print('title: %s, id: %s' % (folder_title, folder_id))\n",
        "\n",
        "# Upload file to folder.\n",
        "f = drive.CreateFile({\"parents\": [{\"kind\": \"drive#fileLink\", \"id\": folder_id}]})\n",
        "\n",
        "# Make sure to add the path to the file to upload below.\n",
        "f.SetContentFile('<file path here>')\n",
        "f.Upload()"
      ],
      "metadata": {
        "colab": {
          "base_uri": "https://localhost:8080/",
          "height": 520
        },
        "id": "ymHx46HFFRpW",
        "outputId": "867d86aa-af8e-4811-a5aa-b3152d2ad76d"
      },
      "execution_count": 5,
      "outputs": [
        {
          "output_type": "error",
          "ename": "InvalidConfigError",
          "evalue": "ignored",
          "traceback": [
            "\u001b[0;31m---------------------------------------------------------------------------\u001b[0m",
            "\u001b[0;31mFileNotFoundError\u001b[0m                         Traceback (most recent call last)",
            "\u001b[0;32m/usr/local/lib/python3.8/dist-packages/oauth2client/clientsecrets.py\u001b[0m in \u001b[0;36m_loadfile\u001b[0;34m(filename)\u001b[0m\n\u001b[1;32m    120\u001b[0m     \u001b[0;32mtry\u001b[0m\u001b[0;34m:\u001b[0m\u001b[0;34m\u001b[0m\u001b[0;34m\u001b[0m\u001b[0m\n\u001b[0;32m--> 121\u001b[0;31m         \u001b[0;32mwith\u001b[0m \u001b[0mopen\u001b[0m\u001b[0;34m(\u001b[0m\u001b[0mfilename\u001b[0m\u001b[0;34m,\u001b[0m \u001b[0;34m'r'\u001b[0m\u001b[0;34m)\u001b[0m \u001b[0;32mas\u001b[0m \u001b[0mfp\u001b[0m\u001b[0;34m:\u001b[0m\u001b[0;34m\u001b[0m\u001b[0;34m\u001b[0m\u001b[0m\n\u001b[0m\u001b[1;32m    122\u001b[0m             \u001b[0mobj\u001b[0m \u001b[0;34m=\u001b[0m \u001b[0mjson\u001b[0m\u001b[0;34m.\u001b[0m\u001b[0mload\u001b[0m\u001b[0;34m(\u001b[0m\u001b[0mfp\u001b[0m\u001b[0;34m)\u001b[0m\u001b[0;34m\u001b[0m\u001b[0;34m\u001b[0m\u001b[0m\n",
            "\u001b[0;31mFileNotFoundError\u001b[0m: [Errno 2] No such file or directory: 'client_secrets.json'",
            "\nDuring handling of the above exception, another exception occurred:\n",
            "\u001b[0;31mInvalidClientSecretsError\u001b[0m                 Traceback (most recent call last)",
            "\u001b[0;32m/usr/local/lib/python3.8/dist-packages/pydrive/auth.py\u001b[0m in \u001b[0;36mLoadClientConfigFile\u001b[0;34m(self, client_config_file)\u001b[0m\n\u001b[1;32m    385\u001b[0m     \u001b[0;32mtry\u001b[0m\u001b[0;34m:\u001b[0m\u001b[0;34m\u001b[0m\u001b[0;34m\u001b[0m\u001b[0m\n\u001b[0;32m--> 386\u001b[0;31m       \u001b[0mclient_type\u001b[0m\u001b[0;34m,\u001b[0m \u001b[0mclient_info\u001b[0m \u001b[0;34m=\u001b[0m \u001b[0mclientsecrets\u001b[0m\u001b[0;34m.\u001b[0m\u001b[0mloadfile\u001b[0m\u001b[0;34m(\u001b[0m\u001b[0mclient_config_file\u001b[0m\u001b[0;34m)\u001b[0m\u001b[0;34m\u001b[0m\u001b[0;34m\u001b[0m\u001b[0m\n\u001b[0m\u001b[1;32m    387\u001b[0m     \u001b[0;32mexcept\u001b[0m \u001b[0mclientsecrets\u001b[0m\u001b[0;34m.\u001b[0m\u001b[0mInvalidClientSecretsError\u001b[0m \u001b[0;32mas\u001b[0m \u001b[0merror\u001b[0m\u001b[0;34m:\u001b[0m\u001b[0;34m\u001b[0m\u001b[0;34m\u001b[0m\u001b[0m\n",
            "\u001b[0;32m/usr/local/lib/python3.8/dist-packages/oauth2client/clientsecrets.py\u001b[0m in \u001b[0;36mloadfile\u001b[0;34m(filename, cache)\u001b[0m\n\u001b[1;32m    164\u001b[0m     \u001b[0;32mif\u001b[0m \u001b[0;32mnot\u001b[0m \u001b[0mcache\u001b[0m\u001b[0;34m:\u001b[0m\u001b[0;34m\u001b[0m\u001b[0;34m\u001b[0m\u001b[0m\n\u001b[0;32m--> 165\u001b[0;31m         \u001b[0;32mreturn\u001b[0m \u001b[0m_loadfile\u001b[0m\u001b[0;34m(\u001b[0m\u001b[0mfilename\u001b[0m\u001b[0;34m)\u001b[0m\u001b[0;34m\u001b[0m\u001b[0;34m\u001b[0m\u001b[0m\n\u001b[0m\u001b[1;32m    166\u001b[0m \u001b[0;34m\u001b[0m\u001b[0m\n",
            "\u001b[0;32m/usr/local/lib/python3.8/dist-packages/oauth2client/clientsecrets.py\u001b[0m in \u001b[0;36m_loadfile\u001b[0;34m(filename)\u001b[0m\n\u001b[1;32m    123\u001b[0m     \u001b[0;32mexcept\u001b[0m \u001b[0mIOError\u001b[0m \u001b[0;32mas\u001b[0m \u001b[0mexc\u001b[0m\u001b[0;34m:\u001b[0m\u001b[0;34m\u001b[0m\u001b[0;34m\u001b[0m\u001b[0m\n\u001b[0;32m--> 124\u001b[0;31m         raise InvalidClientSecretsError('Error opening file', exc.filename,\n\u001b[0m\u001b[1;32m    125\u001b[0m                                         exc.strerror, exc.errno)\n",
            "\u001b[0;31mInvalidClientSecretsError\u001b[0m: ('Error opening file', 'client_secrets.json', 'No such file or directory', 2)",
            "\nDuring handling of the above exception, another exception occurred:\n",
            "\u001b[0;31mInvalidConfigError\u001b[0m                        Traceback (most recent call last)",
            "\u001b[0;32m<ipython-input-5-2ba16cd1b325>\u001b[0m in \u001b[0;36m<module>\u001b[0;34m\u001b[0m\n\u001b[1;32m     10\u001b[0m }\n\u001b[1;32m     11\u001b[0m \u001b[0mfolder\u001b[0m \u001b[0;34m=\u001b[0m \u001b[0mdrive\u001b[0m\u001b[0;34m.\u001b[0m\u001b[0mCreateFile\u001b[0m\u001b[0;34m(\u001b[0m\u001b[0mfolder_metadata\u001b[0m\u001b[0;34m)\u001b[0m\u001b[0;34m\u001b[0m\u001b[0;34m\u001b[0m\u001b[0m\n\u001b[0;32m---> 12\u001b[0;31m \u001b[0mfolder\u001b[0m\u001b[0;34m.\u001b[0m\u001b[0mUpload\u001b[0m\u001b[0;34m(\u001b[0m\u001b[0;34m)\u001b[0m\u001b[0;34m\u001b[0m\u001b[0;34m\u001b[0m\u001b[0m\n\u001b[0m\u001b[1;32m     13\u001b[0m \u001b[0;34m\u001b[0m\u001b[0m\n\u001b[1;32m     14\u001b[0m \u001b[0;31m# Get folder info and print to screen.\u001b[0m\u001b[0;34m\u001b[0m\u001b[0;34m\u001b[0m\u001b[0;34m\u001b[0m\u001b[0m\n",
            "\u001b[0;32m/usr/local/lib/python3.8/dist-packages/pydrive/files.py\u001b[0m in \u001b[0;36mUpload\u001b[0;34m(self, param)\u001b[0m\n\u001b[1;32m    283\u001b[0m         \u001b[0mself\u001b[0m\u001b[0;34m.\u001b[0m\u001b[0m_FilesPatch\u001b[0m\u001b[0;34m(\u001b[0m\u001b[0mparam\u001b[0m\u001b[0;34m=\u001b[0m\u001b[0mparam\u001b[0m\u001b[0;34m)\u001b[0m\u001b[0;34m\u001b[0m\u001b[0;34m\u001b[0m\u001b[0m\n\u001b[1;32m    284\u001b[0m     \u001b[0;32melse\u001b[0m\u001b[0;34m:\u001b[0m\u001b[0;34m\u001b[0m\u001b[0;34m\u001b[0m\u001b[0m\n\u001b[0;32m--> 285\u001b[0;31m       \u001b[0mself\u001b[0m\u001b[0;34m.\u001b[0m\u001b[0m_FilesInsert\u001b[0m\u001b[0;34m(\u001b[0m\u001b[0mparam\u001b[0m\u001b[0;34m=\u001b[0m\u001b[0mparam\u001b[0m\u001b[0;34m)\u001b[0m\u001b[0;34m\u001b[0m\u001b[0;34m\u001b[0m\u001b[0m\n\u001b[0m\u001b[1;32m    286\u001b[0m \u001b[0;34m\u001b[0m\u001b[0m\n\u001b[1;32m    287\u001b[0m   \u001b[0;32mdef\u001b[0m \u001b[0mTrash\u001b[0m\u001b[0;34m(\u001b[0m\u001b[0mself\u001b[0m\u001b[0;34m,\u001b[0m \u001b[0mparam\u001b[0m\u001b[0;34m=\u001b[0m\u001b[0;32mNone\u001b[0m\u001b[0;34m)\u001b[0m\u001b[0;34m:\u001b[0m\u001b[0;34m\u001b[0m\u001b[0;34m\u001b[0m\u001b[0m\n",
            "\u001b[0;32m/usr/local/lib/python3.8/dist-packages/pydrive/auth.py\u001b[0m in \u001b[0;36m_decorated\u001b[0;34m(self, *args, **kwargs)\u001b[0m\n\u001b[1;32m     55\u001b[0m         \u001b[0mself\u001b[0m\u001b[0;34m.\u001b[0m\u001b[0mauth\u001b[0m\u001b[0;34m.\u001b[0m\u001b[0mServiceAuth\u001b[0m\u001b[0;34m(\u001b[0m\u001b[0;34m)\u001b[0m\u001b[0;34m\u001b[0m\u001b[0;34m\u001b[0m\u001b[0m\n\u001b[1;32m     56\u001b[0m       \u001b[0;32melse\u001b[0m\u001b[0;34m:\u001b[0m\u001b[0;34m\u001b[0m\u001b[0;34m\u001b[0m\u001b[0m\n\u001b[0;32m---> 57\u001b[0;31m         \u001b[0mself\u001b[0m\u001b[0;34m.\u001b[0m\u001b[0mauth\u001b[0m\u001b[0;34m.\u001b[0m\u001b[0mLocalWebserverAuth\u001b[0m\u001b[0;34m(\u001b[0m\u001b[0;34m)\u001b[0m\u001b[0;34m\u001b[0m\u001b[0;34m\u001b[0m\u001b[0m\n\u001b[0m\u001b[1;32m     58\u001b[0m \u001b[0;34m\u001b[0m\u001b[0m\n\u001b[1;32m     59\u001b[0m     \u001b[0;31m# Initialise service if not built yet.\u001b[0m\u001b[0;34m\u001b[0m\u001b[0;34m\u001b[0m\u001b[0;34m\u001b[0m\u001b[0m\n",
            "\u001b[0;32m/usr/local/lib/python3.8/dist-packages/google/colab/_import_hooks/_pydrive.py\u001b[0m in \u001b[0;36mPatchedLocalWebServerAuth\u001b[0;34m(self, *args, **kwargs)\u001b[0m\n\u001b[1;32m     55\u001b[0m             \u001b[0mself\u001b[0m\u001b[0;34m.\u001b[0m\u001b[0mcredentials\u001b[0m\u001b[0;34m.\u001b[0m\u001b[0mrefresh\u001b[0m\u001b[0;34m(\u001b[0m\u001b[0mhttplib2\u001b[0m\u001b[0;34m.\u001b[0m\u001b[0mHttp\u001b[0m\u001b[0;34m(\u001b[0m\u001b[0;34m)\u001b[0m\u001b[0;34m)\u001b[0m\u001b[0;34m\u001b[0m\u001b[0;34m\u001b[0m\u001b[0m\n\u001b[1;32m     56\u001b[0m             \u001b[0;32mreturn\u001b[0m\u001b[0;34m\u001b[0m\u001b[0;34m\u001b[0m\u001b[0m\n\u001b[0;32m---> 57\u001b[0;31m           \u001b[0;32mreturn\u001b[0m \u001b[0morig_local_webserver_auth\u001b[0m\u001b[0;34m(\u001b[0m\u001b[0mself\u001b[0m\u001b[0;34m,\u001b[0m \u001b[0;34m*\u001b[0m\u001b[0margs\u001b[0m\u001b[0;34m,\u001b[0m \u001b[0;34m**\u001b[0m\u001b[0mkwargs\u001b[0m\u001b[0;34m)\u001b[0m\u001b[0;34m\u001b[0m\u001b[0;34m\u001b[0m\u001b[0m\n\u001b[0m\u001b[1;32m     58\u001b[0m \u001b[0;34m\u001b[0m\u001b[0m\n\u001b[1;32m     59\u001b[0m         \u001b[0mpydrive_auth_module\u001b[0m\u001b[0;34m.\u001b[0m\u001b[0mGoogleAuth\u001b[0m\u001b[0;34m.\u001b[0m\u001b[0mLocalWebserverAuth\u001b[0m \u001b[0;34m=\u001b[0m \u001b[0mPatchedLocalWebServerAuth\u001b[0m\u001b[0;34m\u001b[0m\u001b[0;34m\u001b[0m\u001b[0m\n",
            "\u001b[0;32m/usr/local/lib/python3.8/dist-packages/pydrive/auth.py\u001b[0m in \u001b[0;36m_decorated\u001b[0;34m(self, *args, **kwargs)\u001b[0m\n\u001b[1;32m    111\u001b[0m       \u001b[0mself\u001b[0m\u001b[0;34m.\u001b[0m\u001b[0mLoadCredentials\u001b[0m\u001b[0;34m(\u001b[0m\u001b[0;34m)\u001b[0m\u001b[0;34m\u001b[0m\u001b[0;34m\u001b[0m\u001b[0m\n\u001b[1;32m    112\u001b[0m     \u001b[0;32mif\u001b[0m \u001b[0mself\u001b[0m\u001b[0;34m.\u001b[0m\u001b[0mflow\u001b[0m \u001b[0;32mis\u001b[0m \u001b[0;32mNone\u001b[0m\u001b[0;34m:\u001b[0m\u001b[0;34m\u001b[0m\u001b[0;34m\u001b[0m\u001b[0m\n\u001b[0;32m--> 113\u001b[0;31m       \u001b[0mself\u001b[0m\u001b[0;34m.\u001b[0m\u001b[0mGetFlow\u001b[0m\u001b[0;34m(\u001b[0m\u001b[0;34m)\u001b[0m\u001b[0;34m\u001b[0m\u001b[0;34m\u001b[0m\u001b[0m\n\u001b[0m\u001b[1;32m    114\u001b[0m     \u001b[0;32mif\u001b[0m \u001b[0mself\u001b[0m\u001b[0;34m.\u001b[0m\u001b[0mcredentials\u001b[0m \u001b[0;32mis\u001b[0m \u001b[0;32mNone\u001b[0m\u001b[0;34m:\u001b[0m\u001b[0;34m\u001b[0m\u001b[0;34m\u001b[0m\u001b[0m\n\u001b[1;32m    115\u001b[0m       \u001b[0mcode\u001b[0m \u001b[0;34m=\u001b[0m \u001b[0mdecoratee\u001b[0m\u001b[0;34m(\u001b[0m\u001b[0mself\u001b[0m\u001b[0;34m,\u001b[0m \u001b[0;34m*\u001b[0m\u001b[0margs\u001b[0m\u001b[0;34m,\u001b[0m \u001b[0;34m**\u001b[0m\u001b[0mkwargs\u001b[0m\u001b[0;34m)\u001b[0m\u001b[0;34m\u001b[0m\u001b[0;34m\u001b[0m\u001b[0m\n",
            "\u001b[0;32m/usr/local/lib/python3.8/dist-packages/pydrive/auth.py\u001b[0m in \u001b[0;36mGetFlow\u001b[0;34m(self)\u001b[0m\n\u001b[1;32m    441\u001b[0m     if not all(config in self.client_config \\\n\u001b[1;32m    442\u001b[0m                for config in self.CLIENT_CONFIGS_LIST):\n\u001b[0;32m--> 443\u001b[0;31m       \u001b[0mself\u001b[0m\u001b[0;34m.\u001b[0m\u001b[0mLoadClientConfig\u001b[0m\u001b[0;34m(\u001b[0m\u001b[0;34m)\u001b[0m\u001b[0;34m\u001b[0m\u001b[0;34m\u001b[0m\u001b[0m\n\u001b[0m\u001b[1;32m    444\u001b[0m     constructor_kwargs = {\n\u001b[1;32m    445\u001b[0m         \u001b[0;34m'redirect_uri'\u001b[0m\u001b[0;34m:\u001b[0m \u001b[0mself\u001b[0m\u001b[0;34m.\u001b[0m\u001b[0mclient_config\u001b[0m\u001b[0;34m[\u001b[0m\u001b[0;34m'redirect_uri'\u001b[0m\u001b[0;34m]\u001b[0m\u001b[0;34m,\u001b[0m\u001b[0;34m\u001b[0m\u001b[0;34m\u001b[0m\u001b[0m\n",
            "\u001b[0;32m/usr/local/lib/python3.8/dist-packages/pydrive/auth.py\u001b[0m in \u001b[0;36mLoadClientConfig\u001b[0;34m(self, backend)\u001b[0m\n\u001b[1;32m    364\u001b[0m         \u001b[0;32mraise\u001b[0m \u001b[0mInvalidConfigError\u001b[0m\u001b[0;34m(\u001b[0m\u001b[0;34m'Please specify client config backend'\u001b[0m\u001b[0;34m)\u001b[0m\u001b[0;34m\u001b[0m\u001b[0;34m\u001b[0m\u001b[0m\n\u001b[1;32m    365\u001b[0m     \u001b[0;32mif\u001b[0m \u001b[0mbackend\u001b[0m \u001b[0;34m==\u001b[0m \u001b[0;34m'file'\u001b[0m\u001b[0;34m:\u001b[0m\u001b[0;34m\u001b[0m\u001b[0;34m\u001b[0m\u001b[0m\n\u001b[0;32m--> 366\u001b[0;31m       \u001b[0mself\u001b[0m\u001b[0;34m.\u001b[0m\u001b[0mLoadClientConfigFile\u001b[0m\u001b[0;34m(\u001b[0m\u001b[0;34m)\u001b[0m\u001b[0;34m\u001b[0m\u001b[0;34m\u001b[0m\u001b[0m\n\u001b[0m\u001b[1;32m    367\u001b[0m     \u001b[0;32melif\u001b[0m \u001b[0mbackend\u001b[0m \u001b[0;34m==\u001b[0m \u001b[0;34m'settings'\u001b[0m\u001b[0;34m:\u001b[0m\u001b[0;34m\u001b[0m\u001b[0;34m\u001b[0m\u001b[0m\n\u001b[1;32m    368\u001b[0m       \u001b[0mself\u001b[0m\u001b[0;34m.\u001b[0m\u001b[0mLoadClientConfigSettings\u001b[0m\u001b[0;34m(\u001b[0m\u001b[0;34m)\u001b[0m\u001b[0;34m\u001b[0m\u001b[0;34m\u001b[0m\u001b[0m\n",
            "\u001b[0;32m/usr/local/lib/python3.8/dist-packages/pydrive/auth.py\u001b[0m in \u001b[0;36mLoadClientConfigFile\u001b[0;34m(self, client_config_file)\u001b[0m\n\u001b[1;32m    386\u001b[0m       \u001b[0mclient_type\u001b[0m\u001b[0;34m,\u001b[0m \u001b[0mclient_info\u001b[0m \u001b[0;34m=\u001b[0m \u001b[0mclientsecrets\u001b[0m\u001b[0;34m.\u001b[0m\u001b[0mloadfile\u001b[0m\u001b[0;34m(\u001b[0m\u001b[0mclient_config_file\u001b[0m\u001b[0;34m)\u001b[0m\u001b[0;34m\u001b[0m\u001b[0;34m\u001b[0m\u001b[0m\n\u001b[1;32m    387\u001b[0m     \u001b[0;32mexcept\u001b[0m \u001b[0mclientsecrets\u001b[0m\u001b[0;34m.\u001b[0m\u001b[0mInvalidClientSecretsError\u001b[0m \u001b[0;32mas\u001b[0m \u001b[0merror\u001b[0m\u001b[0;34m:\u001b[0m\u001b[0;34m\u001b[0m\u001b[0;34m\u001b[0m\u001b[0m\n\u001b[0;32m--> 388\u001b[0;31m       \u001b[0;32mraise\u001b[0m \u001b[0mInvalidConfigError\u001b[0m\u001b[0;34m(\u001b[0m\u001b[0;34m'Invalid client secrets file %s'\u001b[0m \u001b[0;34m%\u001b[0m \u001b[0merror\u001b[0m\u001b[0;34m)\u001b[0m\u001b[0;34m\u001b[0m\u001b[0;34m\u001b[0m\u001b[0m\n\u001b[0m\u001b[1;32m    389\u001b[0m     if not client_type in (clientsecrets.TYPE_WEB,\n\u001b[1;32m    390\u001b[0m                            clientsecrets.TYPE_INSTALLED):\n",
            "\u001b[0;31mInvalidConfigError\u001b[0m: Invalid client secrets file ('Error opening file', 'client_secrets.json', 'No such file or directory', 2)"
          ]
        }
      ]
    },
    {
      "cell_type": "code",
      "execution_count": 16,
      "metadata": {
        "id": "Ceoz1IdW3P-H"
      },
      "outputs": [],
      "source": [
        "import torch\n",
        "import torch.nn as nn\n",
        "import pandas as pd\n",
        "from torch.autograd import Variable\n",
        "device = torch.device(\"cuda:0\" if torch.cuda.is_available() else \"cpu\")\n",
        "import numpy as np"
      ]
    },
    {
      "cell_type": "code",
      "source": [
        "#Je solve d'abord U ensuite je m'adapte à eta "
      ],
      "metadata": {
        "id": "RnDk-fGzJY5V"
      },
      "execution_count": null,
      "outputs": []
    },
    {
      "cell_type": "code",
      "execution_count": null,
      "metadata": {
        "colab": {
          "base_uri": "https://localhost:8080/",
          "height": 201
        },
        "id": "b9qQOB3b3cLd",
        "outputId": "ed90975e-b653-49f4-a0e8-f14cf8734568"
      },
      "outputs": [
        {
          "output_type": "error",
          "ename": "ModuleNotFoundError",
          "evalue": "ignored",
          "traceback": [
            "\u001b[0;31m---------------------------------------------------------------------------\u001b[0m",
            "\u001b[0;31mModuleNotFoundError\u001b[0m                       Traceback (most recent call last)",
            "Cell \u001b[0;32mIn[2], line 2\u001b[0m\n\u001b[1;32m      1\u001b[0m \u001b[38;5;66;03m#Ici je loads mes data pour contraindre ma solution à respecter la FEM\u001b[39;00m\n\u001b[0;32m----> 2\u001b[0m \u001b[38;5;28;01mfrom\u001b[39;00m \u001b[38;5;21;01mgoogle\u001b[39;00m\u001b[38;5;21;01m.\u001b[39;00m\u001b[38;5;21;01mcolab\u001b[39;00m \u001b[38;5;28;01mimport\u001b[39;00m files\n\u001b[1;32m      3\u001b[0m uploaded \u001b[38;5;241m=\u001b[39m files\u001b[38;5;241m.\u001b[39mupload()\n",
            "\u001b[0;31mModuleNotFoundError\u001b[0m: No module named 'google.colab'"
          ]
        }
      ],
      "source": [
        "#Ici je loads mes data pour contraindre ma solution à respecter la FEM\n",
        "from google.colab import files\n",
        "uploaded = files.upload()"
      ]
    },
    {
      "cell_type": "code",
      "source": [],
      "metadata": {
        "id": "8sVvh7OzPUDX"
      },
      "execution_count": null,
      "outputs": []
    },
    {
      "cell_type": "code",
      "source": [
        "#a cause de la contrainte de la machine locale j'accède aux fichier par github\n",
        "url='https://raw.githubusercontent.com/stivenbg/PINNS/main/nodes_colocations.csv'\n",
        "df = pd.read_csv(url)\n",
        "#url_nodes='https://github.com/stivenbg/PINNS/blob/main/nodes_colocations.xlsx'\n",
        "#df = pd.read_csv(url_nodes)\n",
        "print(df)"
      ],
      "metadata": {
        "colab": {
          "base_uri": "https://localhost:8080/"
        },
        "id": "n0eFw_FtKPSg",
        "outputId": "17d7c4a3-af44-4741-de5e-4d0304512dcd"
      },
      "execution_count": 64,
      "outputs": [
        {
          "output_type": "stream",
          "name": "stdout",
          "text": [
            "             1         0\n",
            "0     1.000000  1.000000\n",
            "1     0.000000  1.000000\n",
            "2     0.000000  0.000000\n",
            "3     1.000000  0.020000\n",
            "4     1.000000  0.040000\n",
            "...        ...       ...\n",
            "3429  0.465490  0.298860\n",
            "3430  0.989930  0.010072\n",
            "3431  0.010072  0.010072\n",
            "3432  0.989930  0.989930\n",
            "3433  0.010036  0.989960\n",
            "\n",
            "[3434 rows x 2 columns]\n"
          ]
        }
      ]
    },
    {
      "cell_type": "code",
      "execution_count": 66,
      "metadata": {
        "id": "KpC7hRng3nPk"
      },
      "outputs": [],
      "source": [
        "#maillages fem, leur meshgrid reconstruit le maillage\n",
        "#x3=df.loc[:,1];  #axe 1 Ici x3 et x4 sont des series\n",
        "#x4=df.loc[:,0];  #axe 2\n",
        "\n",
        "x3=df.loc[0:,'1'];  #axe 1 Ici x3 et x4 sont des series\n",
        "x4=df.loc[0:,'0'];  #axe 2\n",
        "\n",
        "\n",
        "x3=x3.to_numpy() #ici je la convertie en ndarray parce que c'est une serie\n",
        "#x3=np.insert(x3, 0, 1) #je rajoute le premier élement qui manque, disparu pendant l'importation avec pandas\n",
        "x4=x4.to_numpy()\n",
        "#x4=np.insert(x4, 0, 0) #dimension (3435,) on va transformer ce vecteur en dimension (3435,1) ave la suite\n",
        "x3=np.transpose(np.array([x3]))\n",
        "x4=np.transpose(np.array([x4]))\n",
        "X2, Y2 = np.meshgrid(x3,x4)\n"
      ]
    },
    {
      "cell_type": "code",
      "execution_count": 24,
      "metadata": {
        "colab": {
          "base_uri": "https://localhost:8080/",
          "height": 218
        },
        "id": "uPUmji233iKa",
        "outputId": "a805c2b5-ad17-44e7-dc64-7db14c488601"
      },
      "outputs": [
        {
          "output_type": "error",
          "ename": "NameError",
          "evalue": "ignored",
          "traceback": [
            "\u001b[0;31m---------------------------------------------------------------------------\u001b[0m",
            "\u001b[0;31mNameError\u001b[0m                                 Traceback (most recent call last)",
            "\u001b[0;32m<ipython-input-24-0a061c4d0a57>\u001b[0m in \u001b[0;36m<module>\u001b[0;34m\u001b[0m\n\u001b[1;32m      1\u001b[0m \u001b[0;31m#Ici je recupère le maillage\u001b[0m\u001b[0;34m\u001b[0m\u001b[0;34m\u001b[0m\u001b[0;34m\u001b[0m\u001b[0m\n\u001b[1;32m      2\u001b[0m \u001b[0;32mimport\u001b[0m \u001b[0mio\u001b[0m\u001b[0;34m\u001b[0m\u001b[0;34m\u001b[0m\u001b[0m\n\u001b[0;32m----> 3\u001b[0;31m \u001b[0mdf\u001b[0m \u001b[0;34m=\u001b[0m \u001b[0mpd\u001b[0m\u001b[0;34m.\u001b[0m\u001b[0mread_excel\u001b[0m\u001b[0;34m(\u001b[0m\u001b[0mio\u001b[0m\u001b[0;34m.\u001b[0m\u001b[0mBytesIO\u001b[0m\u001b[0;34m(\u001b[0m\u001b[0muploaded\u001b[0m\u001b[0;34m[\u001b[0m\u001b[0;34m'nodes_colocations.xlsx'\u001b[0m\u001b[0;34m]\u001b[0m\u001b[0;34m)\u001b[0m\u001b[0;34m)\u001b[0m\u001b[0;34m\u001b[0m\u001b[0;34m\u001b[0m\u001b[0m\n\u001b[0m\u001b[1;32m      4\u001b[0m \u001b[0mprint\u001b[0m\u001b[0;34m(\u001b[0m\u001b[0mdf\u001b[0m\u001b[0;34m)\u001b[0m\u001b[0;34m;\u001b[0m\u001b[0;34m\u001b[0m\u001b[0;34m\u001b[0m\u001b[0m\n",
            "\u001b[0;31mNameError\u001b[0m: name 'uploaded' is not defined"
          ]
        }
      ],
      "source": [
        "#Ici je recupère le maillage\n",
        "import io\n",
        "df = pd.read_excel(io.BytesIO(uploaded['nodes_colocations.xlsx']))\n",
        "print(df);"
      ]
    },
    {
      "cell_type": "code",
      "source": [
        "#a cause de la contrainte de la machine localen j'accède aux fichier par github\n",
        "url='https://raw.githubusercontent.com/stivenbg/PINNS/main/nouvelle_simu_enfin_nov.csv'\n",
        "df = pd.read_csv(url)\n",
        "#url_nodes='https://github.com/stivenbg/PINNS/blob/main/nodes_colocations.xlsx'\n",
        "#df = pd.read_csv(url_nodes)\n",
        "#print(df)"
      ],
      "metadata": {
        "id": "BndwYEkmUYP3"
      },
      "execution_count": 87,
      "outputs": []
    },
    {
      "cell_type": "code",
      "source": [
        "df"
      ],
      "metadata": {
        "colab": {
          "base_uri": "https://localhost:8080/",
          "height": 424
        },
        "id": "0Wgm9vfRckUp",
        "outputId": "9947f41b-1e3b-4856-885d-0fe7af5be07e"
      },
      "execution_count": 88,
      "outputs": [
        {
          "output_type": "execute_result",
          "data": {
            "text/plain": [
              "      0.40351  0.40351.1    1.2038e-07  0.40351.2\n",
              "0     0.58286    0.58286 -9.246900e-08    0.58286\n",
              "1     0.37138    0.37138 -1.102000e-08    0.37138\n",
              "2     0.19203    0.19203 -2.241900e-07    0.19203\n",
              "3     0.40374    0.40374  1.217900e-07    0.40374\n",
              "4     0.40436    0.40436  1.260000e-07    0.40436\n",
              "...       ...        ...           ...        ...\n",
              "3429  0.28857    0.28857 -6.469500e-08    0.28857\n",
              "3430  0.40337    0.40337  1.203900e-07    0.40337\n",
              "3431  0.19215    0.19215 -2.240200e-07    0.19215\n",
              "3432  0.58249    0.58249 -9.247500e-08    0.58249\n",
              "3433  0.37127    0.37127 -1.102100e-08    0.37127\n",
              "\n",
              "[3434 rows x 4 columns]"
            ],
            "text/html": [
              "\n",
              "  <div id=\"df-b37e29f7-9570-4e67-a4ad-1a734f2c11a9\">\n",
              "    <div class=\"colab-df-container\">\n",
              "      <div>\n",
              "<style scoped>\n",
              "    .dataframe tbody tr th:only-of-type {\n",
              "        vertical-align: middle;\n",
              "    }\n",
              "\n",
              "    .dataframe tbody tr th {\n",
              "        vertical-align: top;\n",
              "    }\n",
              "\n",
              "    .dataframe thead th {\n",
              "        text-align: right;\n",
              "    }\n",
              "</style>\n",
              "<table border=\"1\" class=\"dataframe\">\n",
              "  <thead>\n",
              "    <tr style=\"text-align: right;\">\n",
              "      <th></th>\n",
              "      <th>0.40351</th>\n",
              "      <th>0.40351.1</th>\n",
              "      <th>1.2038e-07</th>\n",
              "      <th>0.40351.2</th>\n",
              "    </tr>\n",
              "  </thead>\n",
              "  <tbody>\n",
              "    <tr>\n",
              "      <th>0</th>\n",
              "      <td>0.58286</td>\n",
              "      <td>0.58286</td>\n",
              "      <td>-9.246900e-08</td>\n",
              "      <td>0.58286</td>\n",
              "    </tr>\n",
              "    <tr>\n",
              "      <th>1</th>\n",
              "      <td>0.37138</td>\n",
              "      <td>0.37138</td>\n",
              "      <td>-1.102000e-08</td>\n",
              "      <td>0.37138</td>\n",
              "    </tr>\n",
              "    <tr>\n",
              "      <th>2</th>\n",
              "      <td>0.19203</td>\n",
              "      <td>0.19203</td>\n",
              "      <td>-2.241900e-07</td>\n",
              "      <td>0.19203</td>\n",
              "    </tr>\n",
              "    <tr>\n",
              "      <th>3</th>\n",
              "      <td>0.40374</td>\n",
              "      <td>0.40374</td>\n",
              "      <td>1.217900e-07</td>\n",
              "      <td>0.40374</td>\n",
              "    </tr>\n",
              "    <tr>\n",
              "      <th>4</th>\n",
              "      <td>0.40436</td>\n",
              "      <td>0.40436</td>\n",
              "      <td>1.260000e-07</td>\n",
              "      <td>0.40436</td>\n",
              "    </tr>\n",
              "    <tr>\n",
              "      <th>...</th>\n",
              "      <td>...</td>\n",
              "      <td>...</td>\n",
              "      <td>...</td>\n",
              "      <td>...</td>\n",
              "    </tr>\n",
              "    <tr>\n",
              "      <th>3429</th>\n",
              "      <td>0.28857</td>\n",
              "      <td>0.28857</td>\n",
              "      <td>-6.469500e-08</td>\n",
              "      <td>0.28857</td>\n",
              "    </tr>\n",
              "    <tr>\n",
              "      <th>3430</th>\n",
              "      <td>0.40337</td>\n",
              "      <td>0.40337</td>\n",
              "      <td>1.203900e-07</td>\n",
              "      <td>0.40337</td>\n",
              "    </tr>\n",
              "    <tr>\n",
              "      <th>3431</th>\n",
              "      <td>0.19215</td>\n",
              "      <td>0.19215</td>\n",
              "      <td>-2.240200e-07</td>\n",
              "      <td>0.19215</td>\n",
              "    </tr>\n",
              "    <tr>\n",
              "      <th>3432</th>\n",
              "      <td>0.58249</td>\n",
              "      <td>0.58249</td>\n",
              "      <td>-9.247500e-08</td>\n",
              "      <td>0.58249</td>\n",
              "    </tr>\n",
              "    <tr>\n",
              "      <th>3433</th>\n",
              "      <td>0.37127</td>\n",
              "      <td>0.37127</td>\n",
              "      <td>-1.102100e-08</td>\n",
              "      <td>0.37127</td>\n",
              "    </tr>\n",
              "  </tbody>\n",
              "</table>\n",
              "<p>3434 rows × 4 columns</p>\n",
              "</div>\n",
              "      <button class=\"colab-df-convert\" onclick=\"convertToInteractive('df-b37e29f7-9570-4e67-a4ad-1a734f2c11a9')\"\n",
              "              title=\"Convert this dataframe to an interactive table.\"\n",
              "              style=\"display:none;\">\n",
              "        \n",
              "  <svg xmlns=\"http://www.w3.org/2000/svg\" height=\"24px\"viewBox=\"0 0 24 24\"\n",
              "       width=\"24px\">\n",
              "    <path d=\"M0 0h24v24H0V0z\" fill=\"none\"/>\n",
              "    <path d=\"M18.56 5.44l.94 2.06.94-2.06 2.06-.94-2.06-.94-.94-2.06-.94 2.06-2.06.94zm-11 1L8.5 8.5l.94-2.06 2.06-.94-2.06-.94L8.5 2.5l-.94 2.06-2.06.94zm10 10l.94 2.06.94-2.06 2.06-.94-2.06-.94-.94-2.06-.94 2.06-2.06.94z\"/><path d=\"M17.41 7.96l-1.37-1.37c-.4-.4-.92-.59-1.43-.59-.52 0-1.04.2-1.43.59L10.3 9.45l-7.72 7.72c-.78.78-.78 2.05 0 2.83L4 21.41c.39.39.9.59 1.41.59.51 0 1.02-.2 1.41-.59l7.78-7.78 2.81-2.81c.8-.78.8-2.07 0-2.86zM5.41 20L4 18.59l7.72-7.72 1.47 1.35L5.41 20z\"/>\n",
              "  </svg>\n",
              "      </button>\n",
              "      \n",
              "  <style>\n",
              "    .colab-df-container {\n",
              "      display:flex;\n",
              "      flex-wrap:wrap;\n",
              "      gap: 12px;\n",
              "    }\n",
              "\n",
              "    .colab-df-convert {\n",
              "      background-color: #E8F0FE;\n",
              "      border: none;\n",
              "      border-radius: 50%;\n",
              "      cursor: pointer;\n",
              "      display: none;\n",
              "      fill: #1967D2;\n",
              "      height: 32px;\n",
              "      padding: 0 0 0 0;\n",
              "      width: 32px;\n",
              "    }\n",
              "\n",
              "    .colab-df-convert:hover {\n",
              "      background-color: #E2EBFA;\n",
              "      box-shadow: 0px 1px 2px rgba(60, 64, 67, 0.3), 0px 1px 3px 1px rgba(60, 64, 67, 0.15);\n",
              "      fill: #174EA6;\n",
              "    }\n",
              "\n",
              "    [theme=dark] .colab-df-convert {\n",
              "      background-color: #3B4455;\n",
              "      fill: #D2E3FC;\n",
              "    }\n",
              "\n",
              "    [theme=dark] .colab-df-convert:hover {\n",
              "      background-color: #434B5C;\n",
              "      box-shadow: 0px 1px 3px 1px rgba(0, 0, 0, 0.15);\n",
              "      filter: drop-shadow(0px 1px 2px rgba(0, 0, 0, 0.3));\n",
              "      fill: #FFFFFF;\n",
              "    }\n",
              "  </style>\n",
              "\n",
              "      <script>\n",
              "        const buttonEl =\n",
              "          document.querySelector('#df-b37e29f7-9570-4e67-a4ad-1a734f2c11a9 button.colab-df-convert');\n",
              "        buttonEl.style.display =\n",
              "          google.colab.kernel.accessAllowed ? 'block' : 'none';\n",
              "\n",
              "        async function convertToInteractive(key) {\n",
              "          const element = document.querySelector('#df-b37e29f7-9570-4e67-a4ad-1a734f2c11a9');\n",
              "          const dataTable =\n",
              "            await google.colab.kernel.invokeFunction('convertToInteractive',\n",
              "                                                     [key], {});\n",
              "          if (!dataTable) return;\n",
              "\n",
              "          const docLinkHtml = 'Like what you see? Visit the ' +\n",
              "            '<a target=\"_blank\" href=https://colab.research.google.com/notebooks/data_table.ipynb>data table notebook</a>'\n",
              "            + ' to learn more about interactive tables.';\n",
              "          element.innerHTML = '';\n",
              "          dataTable['output_type'] = 'display_data';\n",
              "          await google.colab.output.renderOutput(dataTable, element);\n",
              "          const docLink = document.createElement('div');\n",
              "          docLink.innerHTML = docLinkHtml;\n",
              "          element.appendChild(docLink);\n",
              "        }\n",
              "      </script>\n",
              "    </div>\n",
              "  </div>\n",
              "  "
            ]
          },
          "metadata": {},
          "execution_count": 88
        }
      ]
    },
    {
      "cell_type": "code",
      "execution_count": 75,
      "metadata": {
        "id": "Q2K1Fr3bJPT7",
        "colab": {
          "base_uri": "https://localhost:8080/",
          "height": 294
        },
        "outputId": "559d3ed6-85aa-4fa0-cf82-e9d45ab87ac8"
      },
      "outputs": [
        {
          "output_type": "error",
          "ename": "UnicodeDecodeError",
          "evalue": "ignored",
          "traceback": [
            "\u001b[0;31m---------------------------------------------------------------------------\u001b[0m",
            "\u001b[0;31mUnicodeDecodeError\u001b[0m                        Traceback (most recent call last)",
            "\u001b[0;32m<ipython-input-75-98eeb71e72cd>\u001b[0m in \u001b[0;36m<module>\u001b[0;34m\u001b[0m\n\u001b[1;32m      1\u001b[0m \u001b[0;31m#a cause de la contrainte de la machine localen j'accède aux fichier par github\u001b[0m\u001b[0;34m\u001b[0m\u001b[0;34m\u001b[0m\u001b[0;34m\u001b[0m\u001b[0m\n\u001b[1;32m      2\u001b[0m \u001b[0murl\u001b[0m\u001b[0;34m=\u001b[0m\u001b[0;34m'https://raw.githubusercontent.com/stivenbg/PINNS/main/nodes_colocations.xlsx'\u001b[0m\u001b[0;34m\u001b[0m\u001b[0;34m\u001b[0m\u001b[0m\n\u001b[0;32m----> 3\u001b[0;31m \u001b[0mdf\u001b[0m \u001b[0;34m=\u001b[0m \u001b[0mpd\u001b[0m\u001b[0;34m.\u001b[0m\u001b[0mread_csv\u001b[0m\u001b[0;34m(\u001b[0m\u001b[0murl\u001b[0m\u001b[0;34m)\u001b[0m\u001b[0;34m\u001b[0m\u001b[0;34m\u001b[0m\u001b[0m\n\u001b[0m\u001b[1;32m      4\u001b[0m \u001b[0;31m#url_nodes='https://github.com/stivenbg/PINNS/blob/main/nodes_colocations.xlsx'\u001b[0m\u001b[0;34m\u001b[0m\u001b[0;34m\u001b[0m\u001b[0;34m\u001b[0m\u001b[0m\n\u001b[1;32m      5\u001b[0m \u001b[0;31m#df = pd.read_csv(url_nodes)\u001b[0m\u001b[0;34m\u001b[0m\u001b[0;34m\u001b[0m\u001b[0;34m\u001b[0m\u001b[0m\n",
            "\u001b[0;32m/usr/local/lib/python3.8/dist-packages/pandas/util/_decorators.py\u001b[0m in \u001b[0;36mwrapper\u001b[0;34m(*args, **kwargs)\u001b[0m\n\u001b[1;32m    309\u001b[0m                     \u001b[0mstacklevel\u001b[0m\u001b[0;34m=\u001b[0m\u001b[0mstacklevel\u001b[0m\u001b[0;34m,\u001b[0m\u001b[0;34m\u001b[0m\u001b[0;34m\u001b[0m\u001b[0m\n\u001b[1;32m    310\u001b[0m                 )\n\u001b[0;32m--> 311\u001b[0;31m             \u001b[0;32mreturn\u001b[0m \u001b[0mfunc\u001b[0m\u001b[0;34m(\u001b[0m\u001b[0;34m*\u001b[0m\u001b[0margs\u001b[0m\u001b[0;34m,\u001b[0m \u001b[0;34m**\u001b[0m\u001b[0mkwargs\u001b[0m\u001b[0;34m)\u001b[0m\u001b[0;34m\u001b[0m\u001b[0;34m\u001b[0m\u001b[0m\n\u001b[0m\u001b[1;32m    312\u001b[0m \u001b[0;34m\u001b[0m\u001b[0m\n\u001b[1;32m    313\u001b[0m         \u001b[0;32mreturn\u001b[0m \u001b[0mwrapper\u001b[0m\u001b[0;34m\u001b[0m\u001b[0;34m\u001b[0m\u001b[0m\n",
            "\u001b[0;32m/usr/local/lib/python3.8/dist-packages/pandas/io/parsers/readers.py\u001b[0m in \u001b[0;36mread_csv\u001b[0;34m(filepath_or_buffer, sep, delimiter, header, names, index_col, usecols, squeeze, prefix, mangle_dupe_cols, dtype, engine, converters, true_values, false_values, skipinitialspace, skiprows, skipfooter, nrows, na_values, keep_default_na, na_filter, verbose, skip_blank_lines, parse_dates, infer_datetime_format, keep_date_col, date_parser, dayfirst, cache_dates, iterator, chunksize, compression, thousands, decimal, lineterminator, quotechar, quoting, doublequote, escapechar, comment, encoding, encoding_errors, dialect, error_bad_lines, warn_bad_lines, on_bad_lines, delim_whitespace, low_memory, memory_map, float_precision, storage_options)\u001b[0m\n\u001b[1;32m    584\u001b[0m     \u001b[0mkwds\u001b[0m\u001b[0;34m.\u001b[0m\u001b[0mupdate\u001b[0m\u001b[0;34m(\u001b[0m\u001b[0mkwds_defaults\u001b[0m\u001b[0;34m)\u001b[0m\u001b[0;34m\u001b[0m\u001b[0;34m\u001b[0m\u001b[0m\n\u001b[1;32m    585\u001b[0m \u001b[0;34m\u001b[0m\u001b[0m\n\u001b[0;32m--> 586\u001b[0;31m     \u001b[0;32mreturn\u001b[0m \u001b[0m_read\u001b[0m\u001b[0;34m(\u001b[0m\u001b[0mfilepath_or_buffer\u001b[0m\u001b[0;34m,\u001b[0m \u001b[0mkwds\u001b[0m\u001b[0;34m)\u001b[0m\u001b[0;34m\u001b[0m\u001b[0;34m\u001b[0m\u001b[0m\n\u001b[0m\u001b[1;32m    587\u001b[0m \u001b[0;34m\u001b[0m\u001b[0m\n\u001b[1;32m    588\u001b[0m \u001b[0;34m\u001b[0m\u001b[0m\n",
            "\u001b[0;32m/usr/local/lib/python3.8/dist-packages/pandas/io/parsers/readers.py\u001b[0m in \u001b[0;36m_read\u001b[0;34m(filepath_or_buffer, kwds)\u001b[0m\n\u001b[1;32m    480\u001b[0m \u001b[0;34m\u001b[0m\u001b[0m\n\u001b[1;32m    481\u001b[0m     \u001b[0;31m# Create the parser.\u001b[0m\u001b[0;34m\u001b[0m\u001b[0;34m\u001b[0m\u001b[0;34m\u001b[0m\u001b[0m\n\u001b[0;32m--> 482\u001b[0;31m     \u001b[0mparser\u001b[0m \u001b[0;34m=\u001b[0m \u001b[0mTextFileReader\u001b[0m\u001b[0;34m(\u001b[0m\u001b[0mfilepath_or_buffer\u001b[0m\u001b[0;34m,\u001b[0m \u001b[0;34m**\u001b[0m\u001b[0mkwds\u001b[0m\u001b[0;34m)\u001b[0m\u001b[0;34m\u001b[0m\u001b[0;34m\u001b[0m\u001b[0m\n\u001b[0m\u001b[1;32m    483\u001b[0m \u001b[0;34m\u001b[0m\u001b[0m\n\u001b[1;32m    484\u001b[0m     \u001b[0;32mif\u001b[0m \u001b[0mchunksize\u001b[0m \u001b[0;32mor\u001b[0m \u001b[0miterator\u001b[0m\u001b[0;34m:\u001b[0m\u001b[0;34m\u001b[0m\u001b[0;34m\u001b[0m\u001b[0m\n",
            "\u001b[0;32m/usr/local/lib/python3.8/dist-packages/pandas/io/parsers/readers.py\u001b[0m in \u001b[0;36m__init__\u001b[0;34m(self, f, engine, **kwds)\u001b[0m\n\u001b[1;32m    809\u001b[0m             \u001b[0mself\u001b[0m\u001b[0;34m.\u001b[0m\u001b[0moptions\u001b[0m\u001b[0;34m[\u001b[0m\u001b[0;34m\"has_index_names\"\u001b[0m\u001b[0;34m]\u001b[0m \u001b[0;34m=\u001b[0m \u001b[0mkwds\u001b[0m\u001b[0;34m[\u001b[0m\u001b[0;34m\"has_index_names\"\u001b[0m\u001b[0;34m]\u001b[0m\u001b[0;34m\u001b[0m\u001b[0;34m\u001b[0m\u001b[0m\n\u001b[1;32m    810\u001b[0m \u001b[0;34m\u001b[0m\u001b[0m\n\u001b[0;32m--> 811\u001b[0;31m         \u001b[0mself\u001b[0m\u001b[0;34m.\u001b[0m\u001b[0m_engine\u001b[0m \u001b[0;34m=\u001b[0m \u001b[0mself\u001b[0m\u001b[0;34m.\u001b[0m\u001b[0m_make_engine\u001b[0m\u001b[0;34m(\u001b[0m\u001b[0mself\u001b[0m\u001b[0;34m.\u001b[0m\u001b[0mengine\u001b[0m\u001b[0;34m)\u001b[0m\u001b[0;34m\u001b[0m\u001b[0;34m\u001b[0m\u001b[0m\n\u001b[0m\u001b[1;32m    812\u001b[0m \u001b[0;34m\u001b[0m\u001b[0m\n\u001b[1;32m    813\u001b[0m     \u001b[0;32mdef\u001b[0m \u001b[0mclose\u001b[0m\u001b[0;34m(\u001b[0m\u001b[0mself\u001b[0m\u001b[0;34m)\u001b[0m\u001b[0;34m:\u001b[0m\u001b[0;34m\u001b[0m\u001b[0;34m\u001b[0m\u001b[0m\n",
            "\u001b[0;32m/usr/local/lib/python3.8/dist-packages/pandas/io/parsers/readers.py\u001b[0m in \u001b[0;36m_make_engine\u001b[0;34m(self, engine)\u001b[0m\n\u001b[1;32m   1038\u001b[0m             )\n\u001b[1;32m   1039\u001b[0m         \u001b[0;31m# error: Too many arguments for \"ParserBase\"\u001b[0m\u001b[0;34m\u001b[0m\u001b[0;34m\u001b[0m\u001b[0;34m\u001b[0m\u001b[0m\n\u001b[0;32m-> 1040\u001b[0;31m         \u001b[0;32mreturn\u001b[0m \u001b[0mmapping\u001b[0m\u001b[0;34m[\u001b[0m\u001b[0mengine\u001b[0m\u001b[0;34m]\u001b[0m\u001b[0;34m(\u001b[0m\u001b[0mself\u001b[0m\u001b[0;34m.\u001b[0m\u001b[0mf\u001b[0m\u001b[0;34m,\u001b[0m \u001b[0;34m**\u001b[0m\u001b[0mself\u001b[0m\u001b[0;34m.\u001b[0m\u001b[0moptions\u001b[0m\u001b[0;34m)\u001b[0m  \u001b[0;31m# type: ignore[call-arg]\u001b[0m\u001b[0;34m\u001b[0m\u001b[0;34m\u001b[0m\u001b[0m\n\u001b[0m\u001b[1;32m   1041\u001b[0m \u001b[0;34m\u001b[0m\u001b[0m\n\u001b[1;32m   1042\u001b[0m     \u001b[0;32mdef\u001b[0m \u001b[0m_failover_to_python\u001b[0m\u001b[0;34m(\u001b[0m\u001b[0mself\u001b[0m\u001b[0;34m)\u001b[0m\u001b[0;34m:\u001b[0m\u001b[0;34m\u001b[0m\u001b[0;34m\u001b[0m\u001b[0m\n",
            "\u001b[0;32m/usr/local/lib/python3.8/dist-packages/pandas/io/parsers/c_parser_wrapper.py\u001b[0m in \u001b[0;36m__init__\u001b[0;34m(self, src, **kwds)\u001b[0m\n\u001b[1;32m     67\u001b[0m         \u001b[0mkwds\u001b[0m\u001b[0;34m[\u001b[0m\u001b[0;34m\"dtype\"\u001b[0m\u001b[0;34m]\u001b[0m \u001b[0;34m=\u001b[0m \u001b[0mensure_dtype_objs\u001b[0m\u001b[0;34m(\u001b[0m\u001b[0mkwds\u001b[0m\u001b[0;34m.\u001b[0m\u001b[0mget\u001b[0m\u001b[0;34m(\u001b[0m\u001b[0;34m\"dtype\"\u001b[0m\u001b[0;34m,\u001b[0m \u001b[0;32mNone\u001b[0m\u001b[0;34m)\u001b[0m\u001b[0;34m)\u001b[0m\u001b[0;34m\u001b[0m\u001b[0;34m\u001b[0m\u001b[0m\n\u001b[1;32m     68\u001b[0m         \u001b[0;32mtry\u001b[0m\u001b[0;34m:\u001b[0m\u001b[0;34m\u001b[0m\u001b[0;34m\u001b[0m\u001b[0m\n\u001b[0;32m---> 69\u001b[0;31m             \u001b[0mself\u001b[0m\u001b[0;34m.\u001b[0m\u001b[0m_reader\u001b[0m \u001b[0;34m=\u001b[0m \u001b[0mparsers\u001b[0m\u001b[0;34m.\u001b[0m\u001b[0mTextReader\u001b[0m\u001b[0;34m(\u001b[0m\u001b[0mself\u001b[0m\u001b[0;34m.\u001b[0m\u001b[0mhandles\u001b[0m\u001b[0;34m.\u001b[0m\u001b[0mhandle\u001b[0m\u001b[0;34m,\u001b[0m \u001b[0;34m**\u001b[0m\u001b[0mkwds\u001b[0m\u001b[0;34m)\u001b[0m\u001b[0;34m\u001b[0m\u001b[0;34m\u001b[0m\u001b[0m\n\u001b[0m\u001b[1;32m     70\u001b[0m         \u001b[0;32mexcept\u001b[0m \u001b[0mException\u001b[0m\u001b[0;34m:\u001b[0m\u001b[0;34m\u001b[0m\u001b[0;34m\u001b[0m\u001b[0m\n\u001b[1;32m     71\u001b[0m             \u001b[0mself\u001b[0m\u001b[0;34m.\u001b[0m\u001b[0mhandles\u001b[0m\u001b[0;34m.\u001b[0m\u001b[0mclose\u001b[0m\u001b[0;34m(\u001b[0m\u001b[0;34m)\u001b[0m\u001b[0;34m\u001b[0m\u001b[0;34m\u001b[0m\u001b[0m\n",
            "\u001b[0;32m/usr/local/lib/python3.8/dist-packages/pandas/_libs/parsers.pyx\u001b[0m in \u001b[0;36mpandas._libs.parsers.TextReader.__cinit__\u001b[0;34m()\u001b[0m\n",
            "\u001b[0;32m/usr/local/lib/python3.8/dist-packages/pandas/_libs/parsers.pyx\u001b[0m in \u001b[0;36mpandas._libs.parsers.TextReader._get_header\u001b[0;34m()\u001b[0m\n",
            "\u001b[0;32m/usr/local/lib/python3.8/dist-packages/pandas/_libs/parsers.pyx\u001b[0m in \u001b[0;36mpandas._libs.parsers.TextReader._tokenize_rows\u001b[0;34m()\u001b[0m\n",
            "\u001b[0;32m/usr/local/lib/python3.8/dist-packages/pandas/_libs/parsers.pyx\u001b[0m in \u001b[0;36mpandas._libs.parsers.raise_parser_error\u001b[0;34m()\u001b[0m\n",
            "\u001b[0;31mUnicodeDecodeError\u001b[0m: 'utf-8' codec can't decode byte 0x90 in position 22: invalid start byte"
          ]
        }
      ],
      "source": [
        "#a cause de la contrainte de la machine localen j'accède aux fichier par github\n",
        "url='https://raw.githubusercontent.com/stivenbg/PINNS/main/nodes_colocations.xlsx'\n",
        "df = pd.read_csv(url)\n",
        "#url_nodes='https://github.com/stivenbg/PINNS/blob/main/nodes_colocations.xlsx'\n",
        "#df = pd.read_csv(url_nodes)\n",
        "print(df)"
      ]
    },
    {
      "cell_type": "code",
      "execution_count": null,
      "metadata": {
        "colab": {
          "base_uri": "https://localhost:8080/",
          "height": 73
        },
        "id": "nJsNzsC230GG",
        "outputId": "8f9be1ca-c719-4192-a8ff-f715342d8636"
      },
      "outputs": [
        {
          "output_type": "display_data",
          "data": {
            "text/plain": [
              "<IPython.core.display.HTML object>"
            ],
            "text/html": [
              "\n",
              "     <input type=\"file\" id=\"files-bd245990-0a85-4aaf-8d80-4daaebf22fa4\" name=\"files[]\" multiple disabled\n",
              "        style=\"border:none\" />\n",
              "     <output id=\"result-bd245990-0a85-4aaf-8d80-4daaebf22fa4\">\n",
              "      Upload widget is only available when the cell has been executed in the\n",
              "      current browser session. Please rerun this cell to enable.\n",
              "      </output>\n",
              "      <script>// Copyright 2017 Google LLC\n",
              "//\n",
              "// Licensed under the Apache License, Version 2.0 (the \"License\");\n",
              "// you may not use this file except in compliance with the License.\n",
              "// You may obtain a copy of the License at\n",
              "//\n",
              "//      http://www.apache.org/licenses/LICENSE-2.0\n",
              "//\n",
              "// Unless required by applicable law or agreed to in writing, software\n",
              "// distributed under the License is distributed on an \"AS IS\" BASIS,\n",
              "// WITHOUT WARRANTIES OR CONDITIONS OF ANY KIND, either express or implied.\n",
              "// See the License for the specific language governing permissions and\n",
              "// limitations under the License.\n",
              "\n",
              "/**\n",
              " * @fileoverview Helpers for google.colab Python module.\n",
              " */\n",
              "(function(scope) {\n",
              "function span(text, styleAttributes = {}) {\n",
              "  const element = document.createElement('span');\n",
              "  element.textContent = text;\n",
              "  for (const key of Object.keys(styleAttributes)) {\n",
              "    element.style[key] = styleAttributes[key];\n",
              "  }\n",
              "  return element;\n",
              "}\n",
              "\n",
              "// Max number of bytes which will be uploaded at a time.\n",
              "const MAX_PAYLOAD_SIZE = 100 * 1024;\n",
              "\n",
              "function _uploadFiles(inputId, outputId) {\n",
              "  const steps = uploadFilesStep(inputId, outputId);\n",
              "  const outputElement = document.getElementById(outputId);\n",
              "  // Cache steps on the outputElement to make it available for the next call\n",
              "  // to uploadFilesContinue from Python.\n",
              "  outputElement.steps = steps;\n",
              "\n",
              "  return _uploadFilesContinue(outputId);\n",
              "}\n",
              "\n",
              "// This is roughly an async generator (not supported in the browser yet),\n",
              "// where there are multiple asynchronous steps and the Python side is going\n",
              "// to poll for completion of each step.\n",
              "// This uses a Promise to block the python side on completion of each step,\n",
              "// then passes the result of the previous step as the input to the next step.\n",
              "function _uploadFilesContinue(outputId) {\n",
              "  const outputElement = document.getElementById(outputId);\n",
              "  const steps = outputElement.steps;\n",
              "\n",
              "  const next = steps.next(outputElement.lastPromiseValue);\n",
              "  return Promise.resolve(next.value.promise).then((value) => {\n",
              "    // Cache the last promise value to make it available to the next\n",
              "    // step of the generator.\n",
              "    outputElement.lastPromiseValue = value;\n",
              "    return next.value.response;\n",
              "  });\n",
              "}\n",
              "\n",
              "/**\n",
              " * Generator function which is called between each async step of the upload\n",
              " * process.\n",
              " * @param {string} inputId Element ID of the input file picker element.\n",
              " * @param {string} outputId Element ID of the output display.\n",
              " * @return {!Iterable<!Object>} Iterable of next steps.\n",
              " */\n",
              "function* uploadFilesStep(inputId, outputId) {\n",
              "  const inputElement = document.getElementById(inputId);\n",
              "  inputElement.disabled = false;\n",
              "\n",
              "  const outputElement = document.getElementById(outputId);\n",
              "  outputElement.innerHTML = '';\n",
              "\n",
              "  const pickedPromise = new Promise((resolve) => {\n",
              "    inputElement.addEventListener('change', (e) => {\n",
              "      resolve(e.target.files);\n",
              "    });\n",
              "  });\n",
              "\n",
              "  const cancel = document.createElement('button');\n",
              "  inputElement.parentElement.appendChild(cancel);\n",
              "  cancel.textContent = 'Cancel upload';\n",
              "  const cancelPromise = new Promise((resolve) => {\n",
              "    cancel.onclick = () => {\n",
              "      resolve(null);\n",
              "    };\n",
              "  });\n",
              "\n",
              "  // Wait for the user to pick the files.\n",
              "  const files = yield {\n",
              "    promise: Promise.race([pickedPromise, cancelPromise]),\n",
              "    response: {\n",
              "      action: 'starting',\n",
              "    }\n",
              "  };\n",
              "\n",
              "  cancel.remove();\n",
              "\n",
              "  // Disable the input element since further picks are not allowed.\n",
              "  inputElement.disabled = true;\n",
              "\n",
              "  if (!files) {\n",
              "    return {\n",
              "      response: {\n",
              "        action: 'complete',\n",
              "      }\n",
              "    };\n",
              "  }\n",
              "\n",
              "  for (const file of files) {\n",
              "    const li = document.createElement('li');\n",
              "    li.append(span(file.name, {fontWeight: 'bold'}));\n",
              "    li.append(span(\n",
              "        `(${file.type || 'n/a'}) - ${file.size} bytes, ` +\n",
              "        `last modified: ${\n",
              "            file.lastModifiedDate ? file.lastModifiedDate.toLocaleDateString() :\n",
              "                                    'n/a'} - `));\n",
              "    const percent = span('0% done');\n",
              "    li.appendChild(percent);\n",
              "\n",
              "    outputElement.appendChild(li);\n",
              "\n",
              "    const fileDataPromise = new Promise((resolve) => {\n",
              "      const reader = new FileReader();\n",
              "      reader.onload = (e) => {\n",
              "        resolve(e.target.result);\n",
              "      };\n",
              "      reader.readAsArrayBuffer(file);\n",
              "    });\n",
              "    // Wait for the data to be ready.\n",
              "    let fileData = yield {\n",
              "      promise: fileDataPromise,\n",
              "      response: {\n",
              "        action: 'continue',\n",
              "      }\n",
              "    };\n",
              "\n",
              "    // Use a chunked sending to avoid message size limits. See b/62115660.\n",
              "    let position = 0;\n",
              "    do {\n",
              "      const length = Math.min(fileData.byteLength - position, MAX_PAYLOAD_SIZE);\n",
              "      const chunk = new Uint8Array(fileData, position, length);\n",
              "      position += length;\n",
              "\n",
              "      const base64 = btoa(String.fromCharCode.apply(null, chunk));\n",
              "      yield {\n",
              "        response: {\n",
              "          action: 'append',\n",
              "          file: file.name,\n",
              "          data: base64,\n",
              "        },\n",
              "      };\n",
              "\n",
              "      let percentDone = fileData.byteLength === 0 ?\n",
              "          100 :\n",
              "          Math.round((position / fileData.byteLength) * 100);\n",
              "      percent.textContent = `${percentDone}% done`;\n",
              "\n",
              "    } while (position < fileData.byteLength);\n",
              "  }\n",
              "\n",
              "  // All done.\n",
              "  yield {\n",
              "    response: {\n",
              "      action: 'complete',\n",
              "    }\n",
              "  };\n",
              "}\n",
              "\n",
              "scope.google = scope.google || {};\n",
              "scope.google.colab = scope.google.colab || {};\n",
              "scope.google.colab._files = {\n",
              "  _uploadFiles,\n",
              "  _uploadFilesContinue,\n",
              "};\n",
              "})(self);\n",
              "</script> "
            ]
          },
          "metadata": {}
        },
        {
          "output_type": "stream",
          "name": "stdout",
          "text": [
            "Saving nouvelle_simu_enfin_nov.xlsx to nouvelle_simu_enfin_nov (1).xlsx\n"
          ]
        }
      ],
      "source": [
        "#Importation des données de simulation\n",
        "from google.colab import files\n",
        "uploaded = files.upload()"
      ]
    },
    {
      "cell_type": "code",
      "source": [
        "df"
      ],
      "metadata": {
        "colab": {
          "base_uri": "https://localhost:8080/",
          "height": 424
        },
        "id": "8iesQtUKVkAw",
        "outputId": "d5f6c3cb-800e-48f8-b0f3-56912639957d"
      },
      "execution_count": 89,
      "outputs": [
        {
          "output_type": "execute_result",
          "data": {
            "text/plain": [
              "      0.40351  0.40351.1    1.2038e-07  0.40351.2\n",
              "0     0.58286    0.58286 -9.246900e-08    0.58286\n",
              "1     0.37138    0.37138 -1.102000e-08    0.37138\n",
              "2     0.19203    0.19203 -2.241900e-07    0.19203\n",
              "3     0.40374    0.40374  1.217900e-07    0.40374\n",
              "4     0.40436    0.40436  1.260000e-07    0.40436\n",
              "...       ...        ...           ...        ...\n",
              "3429  0.28857    0.28857 -6.469500e-08    0.28857\n",
              "3430  0.40337    0.40337  1.203900e-07    0.40337\n",
              "3431  0.19215    0.19215 -2.240200e-07    0.19215\n",
              "3432  0.58249    0.58249 -9.247500e-08    0.58249\n",
              "3433  0.37127    0.37127 -1.102100e-08    0.37127\n",
              "\n",
              "[3434 rows x 4 columns]"
            ],
            "text/html": [
              "\n",
              "  <div id=\"df-3f73f9f8-c1ff-4919-b4db-6fb3eb8ed89f\">\n",
              "    <div class=\"colab-df-container\">\n",
              "      <div>\n",
              "<style scoped>\n",
              "    .dataframe tbody tr th:only-of-type {\n",
              "        vertical-align: middle;\n",
              "    }\n",
              "\n",
              "    .dataframe tbody tr th {\n",
              "        vertical-align: top;\n",
              "    }\n",
              "\n",
              "    .dataframe thead th {\n",
              "        text-align: right;\n",
              "    }\n",
              "</style>\n",
              "<table border=\"1\" class=\"dataframe\">\n",
              "  <thead>\n",
              "    <tr style=\"text-align: right;\">\n",
              "      <th></th>\n",
              "      <th>0.40351</th>\n",
              "      <th>0.40351.1</th>\n",
              "      <th>1.2038e-07</th>\n",
              "      <th>0.40351.2</th>\n",
              "    </tr>\n",
              "  </thead>\n",
              "  <tbody>\n",
              "    <tr>\n",
              "      <th>0</th>\n",
              "      <td>0.58286</td>\n",
              "      <td>0.58286</td>\n",
              "      <td>-9.246900e-08</td>\n",
              "      <td>0.58286</td>\n",
              "    </tr>\n",
              "    <tr>\n",
              "      <th>1</th>\n",
              "      <td>0.37138</td>\n",
              "      <td>0.37138</td>\n",
              "      <td>-1.102000e-08</td>\n",
              "      <td>0.37138</td>\n",
              "    </tr>\n",
              "    <tr>\n",
              "      <th>2</th>\n",
              "      <td>0.19203</td>\n",
              "      <td>0.19203</td>\n",
              "      <td>-2.241900e-07</td>\n",
              "      <td>0.19203</td>\n",
              "    </tr>\n",
              "    <tr>\n",
              "      <th>3</th>\n",
              "      <td>0.40374</td>\n",
              "      <td>0.40374</td>\n",
              "      <td>1.217900e-07</td>\n",
              "      <td>0.40374</td>\n",
              "    </tr>\n",
              "    <tr>\n",
              "      <th>4</th>\n",
              "      <td>0.40436</td>\n",
              "      <td>0.40436</td>\n",
              "      <td>1.260000e-07</td>\n",
              "      <td>0.40436</td>\n",
              "    </tr>\n",
              "    <tr>\n",
              "      <th>...</th>\n",
              "      <td>...</td>\n",
              "      <td>...</td>\n",
              "      <td>...</td>\n",
              "      <td>...</td>\n",
              "    </tr>\n",
              "    <tr>\n",
              "      <th>3429</th>\n",
              "      <td>0.28857</td>\n",
              "      <td>0.28857</td>\n",
              "      <td>-6.469500e-08</td>\n",
              "      <td>0.28857</td>\n",
              "    </tr>\n",
              "    <tr>\n",
              "      <th>3430</th>\n",
              "      <td>0.40337</td>\n",
              "      <td>0.40337</td>\n",
              "      <td>1.203900e-07</td>\n",
              "      <td>0.40337</td>\n",
              "    </tr>\n",
              "    <tr>\n",
              "      <th>3431</th>\n",
              "      <td>0.19215</td>\n",
              "      <td>0.19215</td>\n",
              "      <td>-2.240200e-07</td>\n",
              "      <td>0.19215</td>\n",
              "    </tr>\n",
              "    <tr>\n",
              "      <th>3432</th>\n",
              "      <td>0.58249</td>\n",
              "      <td>0.58249</td>\n",
              "      <td>-9.247500e-08</td>\n",
              "      <td>0.58249</td>\n",
              "    </tr>\n",
              "    <tr>\n",
              "      <th>3433</th>\n",
              "      <td>0.37127</td>\n",
              "      <td>0.37127</td>\n",
              "      <td>-1.102100e-08</td>\n",
              "      <td>0.37127</td>\n",
              "    </tr>\n",
              "  </tbody>\n",
              "</table>\n",
              "<p>3434 rows × 4 columns</p>\n",
              "</div>\n",
              "      <button class=\"colab-df-convert\" onclick=\"convertToInteractive('df-3f73f9f8-c1ff-4919-b4db-6fb3eb8ed89f')\"\n",
              "              title=\"Convert this dataframe to an interactive table.\"\n",
              "              style=\"display:none;\">\n",
              "        \n",
              "  <svg xmlns=\"http://www.w3.org/2000/svg\" height=\"24px\"viewBox=\"0 0 24 24\"\n",
              "       width=\"24px\">\n",
              "    <path d=\"M0 0h24v24H0V0z\" fill=\"none\"/>\n",
              "    <path d=\"M18.56 5.44l.94 2.06.94-2.06 2.06-.94-2.06-.94-.94-2.06-.94 2.06-2.06.94zm-11 1L8.5 8.5l.94-2.06 2.06-.94-2.06-.94L8.5 2.5l-.94 2.06-2.06.94zm10 10l.94 2.06.94-2.06 2.06-.94-2.06-.94-.94-2.06-.94 2.06-2.06.94z\"/><path d=\"M17.41 7.96l-1.37-1.37c-.4-.4-.92-.59-1.43-.59-.52 0-1.04.2-1.43.59L10.3 9.45l-7.72 7.72c-.78.78-.78 2.05 0 2.83L4 21.41c.39.39.9.59 1.41.59.51 0 1.02-.2 1.41-.59l7.78-7.78 2.81-2.81c.8-.78.8-2.07 0-2.86zM5.41 20L4 18.59l7.72-7.72 1.47 1.35L5.41 20z\"/>\n",
              "  </svg>\n",
              "      </button>\n",
              "      \n",
              "  <style>\n",
              "    .colab-df-container {\n",
              "      display:flex;\n",
              "      flex-wrap:wrap;\n",
              "      gap: 12px;\n",
              "    }\n",
              "\n",
              "    .colab-df-convert {\n",
              "      background-color: #E8F0FE;\n",
              "      border: none;\n",
              "      border-radius: 50%;\n",
              "      cursor: pointer;\n",
              "      display: none;\n",
              "      fill: #1967D2;\n",
              "      height: 32px;\n",
              "      padding: 0 0 0 0;\n",
              "      width: 32px;\n",
              "    }\n",
              "\n",
              "    .colab-df-convert:hover {\n",
              "      background-color: #E2EBFA;\n",
              "      box-shadow: 0px 1px 2px rgba(60, 64, 67, 0.3), 0px 1px 3px 1px rgba(60, 64, 67, 0.15);\n",
              "      fill: #174EA6;\n",
              "    }\n",
              "\n",
              "    [theme=dark] .colab-df-convert {\n",
              "      background-color: #3B4455;\n",
              "      fill: #D2E3FC;\n",
              "    }\n",
              "\n",
              "    [theme=dark] .colab-df-convert:hover {\n",
              "      background-color: #434B5C;\n",
              "      box-shadow: 0px 1px 3px 1px rgba(0, 0, 0, 0.15);\n",
              "      filter: drop-shadow(0px 1px 2px rgba(0, 0, 0, 0.3));\n",
              "      fill: #FFFFFF;\n",
              "    }\n",
              "  </style>\n",
              "\n",
              "      <script>\n",
              "        const buttonEl =\n",
              "          document.querySelector('#df-3f73f9f8-c1ff-4919-b4db-6fb3eb8ed89f button.colab-df-convert');\n",
              "        buttonEl.style.display =\n",
              "          google.colab.kernel.accessAllowed ? 'block' : 'none';\n",
              "\n",
              "        async function convertToInteractive(key) {\n",
              "          const element = document.querySelector('#df-3f73f9f8-c1ff-4919-b4db-6fb3eb8ed89f');\n",
              "          const dataTable =\n",
              "            await google.colab.kernel.invokeFunction('convertToInteractive',\n",
              "                                                     [key], {});\n",
              "          if (!dataTable) return;\n",
              "\n",
              "          const docLinkHtml = 'Like what you see? Visit the ' +\n",
              "            '<a target=\"_blank\" href=https://colab.research.google.com/notebooks/data_table.ipynb>data table notebook</a>'\n",
              "            + ' to learn more about interactive tables.';\n",
              "          element.innerHTML = '';\n",
              "          dataTable['output_type'] = 'display_data';\n",
              "          await google.colab.output.renderOutput(dataTable, element);\n",
              "          const docLink = document.createElement('div');\n",
              "          docLink.innerHTML = docLinkHtml;\n",
              "          element.appendChild(docLink);\n",
              "        }\n",
              "      </script>\n",
              "    </div>\n",
              "  </div>\n",
              "  "
            ]
          },
          "metadata": {},
          "execution_count": 89
        }
      ]
    },
    {
      "cell_type": "code",
      "source": [
        "solution_EF\n"
      ],
      "metadata": {
        "id": "PkeBFMoaWniT"
      },
      "execution_count": 92,
      "outputs": []
    },
    {
      "cell_type": "code",
      "execution_count": 102,
      "metadata": {
        "colab": {
          "base_uri": "https://localhost:8080/"
        },
        "id": "YrP_UmTk34GY",
        "outputId": "e52283e5-954c-46cf-8052-9c7cb694fbe0"
      },
      "outputs": [
        {
          "output_type": "stream",
          "name": "stdout",
          "text": [
            "      0.40351  0.40351.1    1.2038e-07  0.40351.2\n",
            "0     0.58286    0.58286 -9.246900e-08    0.58286\n",
            "1     0.37138    0.37138 -1.102000e-08    0.37138\n",
            "2     0.19203    0.19203 -2.241900e-07    0.19203\n",
            "3     0.40374    0.40374  1.217900e-07    0.40374\n",
            "4     0.40436    0.40436  1.260000e-07    0.40436\n",
            "...       ...        ...           ...        ...\n",
            "3429  0.28857    0.28857 -6.469500e-08    0.28857\n",
            "3430  0.40337    0.40337  1.203900e-07    0.40337\n",
            "3431  0.19215    0.19215 -2.240200e-07    0.19215\n",
            "3432  0.58249    0.58249 -9.247500e-08    0.58249\n",
            "3433  0.37127    0.37127 -1.102100e-08    0.37127\n",
            "\n",
            "[3434 rows x 4 columns]\n"
          ]
        }
      ],
      "source": [
        "import io\n",
        "#df = pd.read_excel(io.BytesIO(uploaded['nouvelle_simu_enfin_nov.xlsx']))\n",
        "print(df);\n",
        "solution_EF=df.loc[:,'0.40351'].to_numpy()\n",
        "solution_EF=np.insert(solution_EF, 0, 0.40351)\n",
        "\n",
        "solution_PBDW= df.loc[:,'0.40351.1'].to_numpy()\n",
        "solution_PBDW=np.insert(solution_PBDW, 0, 0.40351)\n",
        "\n",
        "\n",
        "solution_PBDW_eta=df.loc[:,'1.2038e-07'].to_numpy()\n",
        "solution_PBDW_eta=np.insert(solution_PBDW_eta, 0, 1.2038e-07)\n",
        "\n",
        "\n",
        "solution_PBDW_z=df.loc[:,'0.40351.2'].to_numpy()\n",
        "solution_PBDW_z=np.insert(solution_PBDW_z, 0, 0.40351)\n",
        "\n",
        "\n",
        "\n",
        "#solution_EF_et_PBDW=df.loc[0:1,'solution_EF'].to_numpy()\n",
        "\n",
        "\n",
        "#solution_EF_et_PBDW=df.loc[:,'solution_EF':'solution_PBDW'].to_numpy()"
      ]
    },
    {
      "cell_type": "code",
      "execution_count": null,
      "metadata": {
        "id": "LokIb00x39Gd"
      },
      "outputs": [],
      "source": [
        "#parametter\n",
        "mu=6.6\n",
        "epsilon=0.0001\n",
        "\n",
        "# We consider Net as our solution u_theta(x,t)\n",
        "\n",
        "\"\"\"\n",
        "When forming the network, we have to keep in mind the number of inputs and outputs\n",
        "In ur case: #inputs = 2 (x,t)\n",
        "and #outputs = 1\n",
        "\n",
        "You can add ass many hidden layers as you want with as many neurons.\n",
        "More complex the network, the more prepared it is to find complex solutions, but it also requires more data.\n",
        "\n",
        "Let us create this network:\n",
        "min 5 hidden layer with 5 neurons each.\n",
        "\"\"\"\n",
        "\n",
        "class Net(nn.Module):\n",
        "    def __init__(self):\n",
        "        super(Net, self).__init__()\n",
        "        self.hidden_layer1 = nn.Linear(2,50)\n",
        "        self.hidden_layer2 = nn.Linear(50,50)\n",
        "        self.hidden_layer3 = nn.Linear(50,50)\n",
        "        self.hidden_layer4 = nn.Linear(50,50)\n",
        "        self.hidden_layer5 = nn.Linear(50,50)\n",
        "\n",
        "        self.output_layer = nn.Linear(50,1)\n",
        "\n",
        "    def forward(self, x,t):\n",
        "        inputs = torch.cat([x,t],axis=1) # combined two arrays of 1 columns each to one array of 2 columns\n",
        "        layer1_out = torch.tanh(self.hidden_layer1(inputs))\n",
        "        layer2_out = torch.tanh(self.hidden_layer2(layer1_out))\n",
        "        layer3_out = torch.tanh(self.hidden_layer3(layer2_out))\n",
        "        layer4_out = torch.tanh(self.hidden_layer4(layer3_out))\n",
        "        layer5_out = torch.tanh(self.hidden_layer5(layer4_out))\n",
        "\n",
        "\n",
        "        output = self.output_layer(layer3_out)\n",
        "        return output"
      ]
    },
    {
      "cell_type": "code",
      "source": [
        "#parametter\n",
        "mu=6.6\n",
        "epsilon=0.0001\n",
        "\n",
        "# We consider Net as our solution u_theta(x,t)\n",
        "\n",
        "\"\"\"\n",
        "When forming the network, we have to keep in mind the number of inputs and outputs\n",
        "In ur case: #inputs = 2 (x,t)\n",
        "and #outputs = 1\n",
        "\n",
        "You can add ass many hidden layers as you want with as many neurons.\n",
        "More complex the network, the more prepared it is to find complex solutions, but it also requires more data.\n",
        "\n",
        "Let us create this network:\n",
        "min 5 hidden layer with 5 neurons each.\n",
        "\"\"\"\n",
        "\n",
        "class Net(nn.Module):\n",
        "    def __init__(self):\n",
        "        super(Net, self).__init__()\n",
        "        self.hidden_layer1 = nn.Linear(2,20)\n",
        "        self.hidden_layer2 = nn.Linear(20,20)\n",
        "        self.hidden_layer3 = nn.Linear(20,20)\n",
        "        self.hidden_layer4 = nn.Linear(20,20)\n",
        "        self.hidden_layer5 = nn.Linear(20,20)\n",
        "\n",
        "\n",
        "        self.output_layer = nn.Linear(20,1)\n",
        "\n",
        "    def forward(self, x,t):\n",
        "        inputs = torch.cat([x,t],axis=1) # combined two arrays of 1 columns each to one array of 2 columns\n",
        "        layer1_out = torch.tanh(self.hidden_layer1(inputs))\n",
        "        layer2_out = torch.tanh(self.hidden_layer2(layer1_out))\n",
        "        layer3_out = torch.tanh(self.hidden_layer3(layer2_out))\n",
        "        layer4_out = torch.tanh(self.hidden_layer4(layer3_out))\n",
        "        layer5_out = torch.tanh(self.hidden_layer5(layer4_out))\n",
        "\n",
        "        output = self.output_layer(layer3_out)\n",
        "        return output"
      ],
      "metadata": {
        "id": "YF9XdXcvIvkd"
      },
      "execution_count": null,
      "outputs": []
    },
    {
      "cell_type": "code",
      "execution_count": null,
      "metadata": {
        "id": "8OlBNYHi4EPn"
      },
      "outputs": [],
      "source": [
        "### PDE as loss function. Thus would use the network which we call as u_theta\n",
        "def f(x,t, net): #ici net c'est eta\n",
        "    u = net(x,t) # the dependent variable u is given by the network based on independent variables x,t\n",
        "    ## Based on our f = du/dx - 2du/dt - u, we need du/dx and du/dt\n",
        "    #u_x = torch.autograd.grad(u.sum(), x, create_graph=True)[0]\n",
        "    #u_xx = torch.autograd.grad(u_x.sum(), x, create_graph=True)[0]\n",
        "    #u_t = torch.autograd.grad(u.sum(), t, create_graph=True)[0]\n",
        "\n",
        "    u_x = torch.autograd.grad(u.sum(), x, create_graph=True)[0]\n",
        "    u_xx = torch.autograd.grad(u_x.sum(), x, create_graph=True)[0]\n",
        "    u_t = torch.autograd.grad(u.sum(), t, create_graph=True)[0]\n",
        "    u_yy = torch.autograd.grad(u_t.sum(), t, create_graph=True)[0]\n",
        "    q= mu*(2*torch.tensor(x)**2 + torch.tensor(torch.exp(t)))\n",
        "    pde= (u_xx+u_yy)+mu**2*u - mu*q #edp verifiee par u\n",
        "    #pde2=()    #edp verifiee par eta\n",
        "    return pde\n",
        "\n",
        "    #u_xx_1 = u_xx[:,0]\n",
        "    #u_xx_2 = u_xx[:,1]\n",
        "    #q=np.vectorize(-2*x_1**2 - math.exp(x_2))\n",
        "    #pde =-(u_xx+u_tt)-mu**2*u - mu*Variable(torch.from_numpy(x).float(), requires_grad=True).to(device)**2 - torch.exp(Variable(torch.from_numpy(x).float(), requires_grad=True).to(device))\n",
        "    #pde = u_x - 2*u_t - u\n",
        "    #pde= -(u_xx+u_tt)-mu**2*u +q  #ok ok\n",
        "    #pde= -mu**2*u -(u_xx_1) #+u_xx_2)\n",
        "    #pde= -(u_xx)-mu**2*u\n",
        "    #pde=torch.tensor(1+epsilon*mu, dtype=torch.complex32)*(u_xx+u_tt)-mu**2*u\n",
        "  "
      ]
    },
    {
      "cell_type": "code",
      "execution_count": null,
      "metadata": {
        "id": "ZDMrtJfd4KXf"
      },
      "outputs": [],
      "source": [
        "a6=0\n",
        "a_1 = 1 \n",
        "a_2 = 1\n",
        "\n",
        "def training_bc(N_u):\n",
        "  #Dans le cas de mon pb toutes les BC sont nulles\n",
        "  #a_1 = 0\n",
        "  #a_2 = 0\n",
        "  # compute u based on BC\n",
        "  #u_bc = 60*np.exp(-3*x_bc)\n",
        "  u_bc = a6*np.sin(a_1 * np.pi *X2) * np.sin(a_2 * np.pi *Y2) #nul de la dimension qu'il faut \n",
        "  leftedge_x = np.hstack((X2[:,0][:,None], Y2[:,0][:,None])) #côté gauche\n",
        "  leftedge_u = u_bc[:,0][:,None]\n",
        "  rightedge_x = np.hstack((X2[:,-1][:,None], Y2[:,-1][:,None])) #côté droit\n",
        "  rightedge_u = u_bc[:,-1][:,None]\n",
        "  topedge_x = np.hstack((X2[0,:][:,None], Y2[0,:][:,None])) #côté haut\n",
        "  topedge_u = u_bc[0,:][:,None]\n",
        "  bottomedge_x = np.hstack((X2[-1,:][:,None], Y2[-1,:][:,None])) #côté bas\n",
        "  bottomedge_u = u_bc[-1,:][:,None]\n",
        "  all_x_bc = np.vstack([leftedge_x, rightedge_x, bottomedge_x, topedge_x]) #concatenation horizontale des coordonnées de tous les côtés\n",
        "  all_u_bc =a6* np.vstack([leftedge_u, rightedge_u, bottomedge_u, topedge_u])  #Les valeurs aux bords du champ primal\n",
        "  #choose random N_u points for training\n",
        "  idx = np.random.choice(all_x_bc.shape[0], N_u, replace=False) \n",
        "\n",
        "  all_x_bc = all_x_bc[idx[0:N_u], :] #choose indices from  set 'idx' (x,t)\n",
        "  all_u_bc = all_u_bc[idx[0:N_u],:]    #choose corresponding u\n",
        "\n",
        "  return all_x_bc, all_u_bc\n"
      ]
    },
    {
      "cell_type": "code",
      "execution_count": null,
      "metadata": {
        "id": "36sM6MSgwiIb"
      },
      "outputs": [],
      "source": [
        "#Ici je convertie mes data pour qu'elles soient exploitables\n",
        "N_u=2000\n",
        "pt_bc, u_bc = training_bc(N_u)\n",
        "#x_bc,t_bc = pt_bc[:,0],pt_bc[:,1] pas bon ici, il nous faut un format ligne colonne\n",
        "#np.transpose(np.array([pt_bc[:,0]])) on applique cette transformation pour convertir\n",
        "x_bc,t_bc = np.transpose(np.array([pt_bc[:,0]])),np.transpose(np.array([pt_bc[:,1]]))\n",
        "\n",
        "pt_x_fem1 = Variable(torch.from_numpy(x3).float(), requires_grad=False).to(device) \n",
        "pt_x_fem2= Variable(torch.from_numpy(x4).float(), requires_grad=False).to(device)\n",
        "pt_u_fem = Variable(torch.from_numpy(solution_EF).float(), requires_grad=False).to(device) #ici je remplace u_fem par eta\n",
        "pt_eta_pbdw = Variable(torch.from_numpy(solution_PBDW_eta).float(), requires_grad=False).to(device)\n",
        "pt_z = Variable(torch.from_numpy(solution_PBDW_z).float(), requires_grad=False).to(device)\n",
        "\n",
        "pt_x_bc = Variable(torch.from_numpy(x_bc).float(), requires_grad=False).to(device)\n",
        "pt_t_bc = Variable(torch.from_numpy(t_bc).float(), requires_grad=False).to(device)\n",
        "pt_u_bc = Variable(torch.from_numpy(u_bc).float(), requires_grad=False).to(device)\n",
        "#pt_u_bc = Variable(torch.from_numpy(ms_u_bc).float(), requires_grad=False).to(device)"
      ]
    },
    {
      "cell_type": "code",
      "execution_count": null,
      "metadata": {
        "id": "p1AtMgulxjpm"
      },
      "outputs": [],
      "source": [
        "#q= mu*(2*torch.tensor(pt_x_fem1)**2 + torch.tensor(torch.exp(pt_x_fem2)));\n",
        "#q.shape"
      ]
    },
    {
      "cell_type": "code",
      "execution_count": null,
      "metadata": {
        "id": "zMJzxWoKjFjg"
      },
      "outputs": [],
      "source": []
    },
    {
      "cell_type": "code",
      "execution_count": null,
      "metadata": {
        "id": "7xQv4oaN4Nzv"
      },
      "outputs": [],
      "source": [
        "\n",
        "def TRAINING(iterations):\n",
        "  ### (2) Model\n",
        "\n",
        "### (3) Training / Fitting\n",
        "  #iterations = 2000\n",
        "\n",
        "  previous_validation_loss = 99999999.0\n",
        "  #loss.data=torch.tensor([[100000]])\n",
        "  for epoch in range(iterations):\n",
        "    optimizer.zero_grad() # to make the gradients zero\n",
        "\n",
        "    #Loss based on high fidelity FEM simulation #OK\n",
        "    #Ici je vais fit la sortie du réseau NN(xfem1,xfem2) à eta_fem.\n",
        "\n",
        "\n",
        "    net_fem_out=net(pt_x_fem1, pt_x_fem2)\n",
        "    #mse_fem=mse_cost_function(net_fem_out-pt_z, pt_eta_pbdw ) #je fit eta ok\n",
        "    mse_fem=mse_cost_function(net_fem_out, pt_eta_pbdw ) #je fit u ok\n",
        "\n",
        "\n",
        "    # Loss based on PDE #Trouver un moyen de faire la colocation sur les points de maillage EF afin de pouvoir évaluer les valeurs de Z à soustraire\n",
        "    x_collocation = np.random.uniform(low=0, high=1, size=(12000,1)) #x1\n",
        "    t_collocation = np.random.uniform(low=0, high=1, size=(12000,1)) #x2\n",
        "    all_zeros = np.zeros((12000,1))\n",
        "    pt_x_collocation = Variable(torch.from_numpy(x_collocation).float(), requires_grad=True).to(device)\n",
        "    pt_t_collocation = Variable(torch.from_numpy(t_collocation).float(), requires_grad=True).to(device)\n",
        "    pt_all_zeros = Variable(torch.from_numpy(all_zeros).float(), requires_grad=False).to(device)\n",
        "    \n",
        "    f_out = f(pt_x_collocation, pt_t_collocation, net) # output of f(x,t)\n",
        "    net_pde=net(pt_x_collocation, pt_t_collocation) #j'evalue le résidue de la pde\n",
        "    #mse_f = mse_cost_function(f_out, pt_all_zeros)\n",
        "    mse_f = mse_cost_function(net_pde, f_out)\n",
        "\n",
        "    #Loss based on boundary conditions #Pareillement ici il faut récupérer les valeurs de éta aux bords. Prendre les coordonées des élements du maillage les plus proches des bords\n",
        "    #et entrainer sur ces points là\n",
        "    # je recupère les paramètres des BC et je les scinde en 2 deux puisque le NN prend 2 inputs\n",
        "    # N_u=len(all_u_bc)=13740\n",
        "\n",
        "    net_bc_out = net(pt_x_bc, pt_t_bc) # output of u(x,t)\n",
        "    mse_u = mse_cost_function(net_bc_out, pt_u_bc)\n",
        "\n",
        "    #Loss based on orthogonality\n",
        "    #orthogonality_loss= net_bc_out*pt_z\n",
        "    #orthogonality_loss= net(pt_x_bc, pt_t_bc)*pt_z \n",
        "    net_fem_out=net(pt_x_fem1, pt_x_fem2)\n",
        "    mse_orthogonal=mse_cost_function(torch.sqrt(net_fem_out*pt_z), 0*pt_eta_pbdw ) #je fit u ok, la racine dans mse c'est pour avoir un produit scalaire non élevé au caré\n",
        "\n",
        "\n",
        "    # Combining the loss functions\n",
        "    # Total Loss\n",
        "    #loss =   mse_fem# + mse_f +mse_u   #la fonction cout à minimiser vis-à-vis du modèles, des BC, de la FEM\n",
        "    #loss = mse_f+mse_u+mse_fem#+1mse_orthogonal # cointraintes faibles (  accéssoirement reflechir à insérer des contraintes fortes instead )\n",
        "    #loss=mse_u +mse_fem+orthogonality_loss\n",
        "\n",
        "    loss = mse_u+mse_fem #+10*mse_orthogonal\n",
        "    \n",
        "    #Optimization\n",
        "    loss.backward() # This is for computing gradients using backward propagation\n",
        "    optimizer.step() # This is equivalent to : theta_new = theta_old - alpha * derivative of J w.r.t theta\n",
        "\n",
        "    with torch.autograd.no_grad():\n",
        "      print(epoch,\"Traning Loss:\",loss.data);\n",
        "    \n",
        "\n"
      ]
    },
    {
      "cell_type": "code",
      "execution_count": null,
      "metadata": {
        "id": "fmnWNQGnHwhG",
        "colab": {
          "base_uri": "https://localhost:8080/"
        },
        "outputId": "3cf9a662-938f-4aa4-bd4f-4a1e222a2a30"
      },
      "outputs": [
        {
          "output_type": "execute_result",
          "data": {
            "text/plain": [
              "3435"
            ]
          },
          "metadata": {},
          "execution_count": 15
        }
      ],
      "source": [
        "len(pt_x_fem1)\n",
        "#net(pt_x_bc, pt_t_bc)*pt_z\n",
        "#net_bc_out*pt_z"
      ]
    },
    {
      "cell_type": "code",
      "execution_count": null,
      "metadata": {
        "id": "Ivsbd0bYdE0m",
        "colab": {
          "base_uri": "https://localhost:8080/"
        },
        "outputId": "e1f4d30a-058c-41a4-e6ca-2bc48a78658c"
      },
      "outputs": [
        {
          "output_type": "execute_result",
          "data": {
            "text/plain": [
              "tensor([0., -0., -0.,  ..., -0., -0., -0.])"
            ]
          },
          "metadata": {},
          "execution_count": 16
        }
      ],
      "source": [
        "0*pt_eta_pbdw"
      ]
    },
    {
      "cell_type": "code",
      "execution_count": null,
      "metadata": {
        "id": "SMoRvqoDIAdU",
        "colab": {
          "base_uri": "https://localhost:8080/",
          "height": 166
        },
        "outputId": "26c48873-d25f-4ba2-d237-01a70abcd148"
      },
      "outputs": [
        {
          "output_type": "error",
          "ename": "NameError",
          "evalue": "ignored",
          "traceback": [
            "\u001b[0;31m---------------------------------------------------------------------------\u001b[0m",
            "\u001b[0;31mNameError\u001b[0m                                 Traceback (most recent call last)",
            "\u001b[0;32m<ipython-input-17-57a22723ce4f>\u001b[0m in \u001b[0;36m<module>\u001b[0;34m\u001b[0m\n\u001b[0;32m----> 1\u001b[0;31m \u001b[0mlen\u001b[0m\u001b[0;34m(\u001b[0m\u001b[0mnet\u001b[0m\u001b[0;34m(\u001b[0m\u001b[0mpt_x1\u001b[0m\u001b[0;34m,\u001b[0m \u001b[0mpt_x2\u001b[0m\u001b[0;34m)\u001b[0m\u001b[0;34m)\u001b[0m\u001b[0;34m,\u001b[0m \u001b[0mlen\u001b[0m\u001b[0;34m(\u001b[0m\u001b[0mpt_z\u001b[0m\u001b[0;34m)\u001b[0m\u001b[0;34m\u001b[0m\u001b[0;34m\u001b[0m\u001b[0m\n\u001b[0m",
            "\u001b[0;31mNameError\u001b[0m: name 'net' is not defined"
          ]
        }
      ],
      "source": [
        "len(net(pt_x1, pt_x2)), len(pt_z)"
      ]
    },
    {
      "cell_type": "code",
      "execution_count": null,
      "metadata": {
        "id": "l99uqkGr4TYq"
      },
      "outputs": [],
      "source": [
        "  net = Net() #ici je réinitialise le modèle, si je ne le fais pas, je repars de mon modèle précédent \n",
        "  net = net.to(device) # qui est stocké dans le device\n",
        "  mse_cost_function = torch.nn.MSELoss() # Mean squared error\n",
        "  optimizer = torch.optim.Adam(net.parameters(),lr=0.002,betas=(0.9, 0.999), eps=1e-08, weight_decay=0, amsgrad=False) #lorsque la fonction coût passe en dessous de 2 je baisse le pas d'incrément"
      ]
    },
    {
      "cell_type": "code",
      "source": [
        "from mpl_toolkits.mplot3d import Axes3D\n",
        "import matplotlib.pyplot as plt\n",
        "from matplotlib import cm\n",
        "from matplotlib.ticker import LinearLocator, FormatStrFormatter\n",
        "import numpy as np\n",
        "\n",
        "#x1=np.arange(-1,1,0.01)\n",
        "#x2=x1\n",
        "#ms_x1, ms_x2 = np.meshgrid(x1, x2)\n",
        "## Just because meshgrid is used, we need to do the following adjustment\n",
        "ms_x1, ms_x2=X2,Y2\n",
        "x1 = np.ravel(ms_x1).reshape(-1,1)\n",
        "x2 = np.ravel(ms_x2).reshape(-1,1)\n",
        "#true solution\n",
        "usol = np.sin(a_1 * np.pi *ms_x1) * np.sin(a_2 * np.pi * ms_x2) #solution chosen for convinience  \n",
        "#u_true = usol.flatten('F')[:,None]\n",
        " \n",
        "#pt_x1 = Variable(torch.from_numpy(x1).float(), requires_grad=True).to(device)\n",
        "#pt_x2 = Variable(torch.from_numpy(x2).float(), requires_grad=True).to(device)\n",
        "\n",
        "x3 = np.ravel(ms_x1).reshape(-1,1)\n",
        "x4 = np.ravel(ms_x2).reshape(-1,1)\n",
        "\n",
        "pt_x3 = Variable(torch.from_numpy(x3).float(), requires_grad=True).to(device)\n",
        "pt_x4 = Variable(torch.from_numpy(x4).float(), requires_grad=True).to(device)\n",
        "#pt_u = net(pt_x1,pt_x2)\n",
        "pt_u = net(pt_x3,pt_x4)\n",
        "\n",
        "u=pt_u.data.cpu().numpy()\n",
        "#ms_u = u.reshape(ms_x1.shape)\n",
        "ms_u = u.reshape(X2.shape)\n"
      ],
      "metadata": {
        "id": "O1t8vx689GYa",
        "colab": {
          "base_uri": "https://localhost:8080/",
          "height": 380
        },
        "outputId": "43469bfe-3c9b-4966-8bed-139d18fef079"
      },
      "execution_count": null,
      "outputs": [
        {
          "output_type": "error",
          "ename": "KeyboardInterrupt",
          "evalue": "ignored",
          "traceback": [
            "\u001b[0;31m---------------------------------------------------------------------------\u001b[0m",
            "\u001b[0;31mKeyboardInterrupt\u001b[0m                         Traceback (most recent call last)",
            "\u001b[0;32m<ipython-input-25-ff8d8c688ecf>\u001b[0m in \u001b[0;36m<module>\u001b[0;34m\u001b[0m\n\u001b[1;32m     25\u001b[0m \u001b[0mpt_x4\u001b[0m \u001b[0;34m=\u001b[0m \u001b[0mVariable\u001b[0m\u001b[0;34m(\u001b[0m\u001b[0mtorch\u001b[0m\u001b[0;34m.\u001b[0m\u001b[0mfrom_numpy\u001b[0m\u001b[0;34m(\u001b[0m\u001b[0mx4\u001b[0m\u001b[0;34m)\u001b[0m\u001b[0;34m.\u001b[0m\u001b[0mfloat\u001b[0m\u001b[0;34m(\u001b[0m\u001b[0;34m)\u001b[0m\u001b[0;34m,\u001b[0m \u001b[0mrequires_grad\u001b[0m\u001b[0;34m=\u001b[0m\u001b[0;32mTrue\u001b[0m\u001b[0;34m)\u001b[0m\u001b[0;34m.\u001b[0m\u001b[0mto\u001b[0m\u001b[0;34m(\u001b[0m\u001b[0mdevice\u001b[0m\u001b[0;34m)\u001b[0m\u001b[0;34m\u001b[0m\u001b[0;34m\u001b[0m\u001b[0m\n\u001b[1;32m     26\u001b[0m \u001b[0;31m#pt_u = net(pt_x1,pt_x2)\u001b[0m\u001b[0;34m\u001b[0m\u001b[0;34m\u001b[0m\u001b[0;34m\u001b[0m\u001b[0m\n\u001b[0;32m---> 27\u001b[0;31m \u001b[0mpt_u\u001b[0m \u001b[0;34m=\u001b[0m \u001b[0mnet\u001b[0m\u001b[0;34m(\u001b[0m\u001b[0mpt_x3\u001b[0m\u001b[0;34m,\u001b[0m\u001b[0mpt_x4\u001b[0m\u001b[0;34m)\u001b[0m\u001b[0;34m\u001b[0m\u001b[0;34m\u001b[0m\u001b[0m\n\u001b[0m\u001b[1;32m     28\u001b[0m \u001b[0;34m\u001b[0m\u001b[0m\n\u001b[1;32m     29\u001b[0m \u001b[0mu\u001b[0m\u001b[0;34m=\u001b[0m\u001b[0mpt_u\u001b[0m\u001b[0;34m.\u001b[0m\u001b[0mdata\u001b[0m\u001b[0;34m.\u001b[0m\u001b[0mcpu\u001b[0m\u001b[0;34m(\u001b[0m\u001b[0;34m)\u001b[0m\u001b[0;34m.\u001b[0m\u001b[0mnumpy\u001b[0m\u001b[0;34m(\u001b[0m\u001b[0;34m)\u001b[0m\u001b[0;34m\u001b[0m\u001b[0;34m\u001b[0m\u001b[0m\n",
            "\u001b[0;32m/usr/local/lib/python3.8/dist-packages/torch/nn/modules/module.py\u001b[0m in \u001b[0;36m_call_impl\u001b[0;34m(self, *input, **kwargs)\u001b[0m\n\u001b[1;32m   1128\u001b[0m         if not (self._backward_hooks or self._forward_hooks or self._forward_pre_hooks or _global_backward_hooks\n\u001b[1;32m   1129\u001b[0m                 or _global_forward_hooks or _global_forward_pre_hooks):\n\u001b[0;32m-> 1130\u001b[0;31m             \u001b[0;32mreturn\u001b[0m \u001b[0mforward_call\u001b[0m\u001b[0;34m(\u001b[0m\u001b[0;34m*\u001b[0m\u001b[0minput\u001b[0m\u001b[0;34m,\u001b[0m \u001b[0;34m**\u001b[0m\u001b[0mkwargs\u001b[0m\u001b[0;34m)\u001b[0m\u001b[0;34m\u001b[0m\u001b[0;34m\u001b[0m\u001b[0m\n\u001b[0m\u001b[1;32m   1131\u001b[0m         \u001b[0;31m# Do not call functions when jit is used\u001b[0m\u001b[0;34m\u001b[0m\u001b[0;34m\u001b[0m\u001b[0;34m\u001b[0m\u001b[0m\n\u001b[1;32m   1132\u001b[0m         \u001b[0mfull_backward_hooks\u001b[0m\u001b[0;34m,\u001b[0m \u001b[0mnon_full_backward_hooks\u001b[0m \u001b[0;34m=\u001b[0m \u001b[0;34m[\u001b[0m\u001b[0;34m]\u001b[0m\u001b[0;34m,\u001b[0m \u001b[0;34m[\u001b[0m\u001b[0;34m]\u001b[0m\u001b[0;34m\u001b[0m\u001b[0;34m\u001b[0m\u001b[0m\n",
            "\u001b[0;32m<ipython-input-10-5e7ae08833a1>\u001b[0m in \u001b[0;36mforward\u001b[0;34m(self, x, t)\u001b[0m\n\u001b[1;32m     31\u001b[0m     \u001b[0;32mdef\u001b[0m \u001b[0mforward\u001b[0m\u001b[0;34m(\u001b[0m\u001b[0mself\u001b[0m\u001b[0;34m,\u001b[0m \u001b[0mx\u001b[0m\u001b[0;34m,\u001b[0m\u001b[0mt\u001b[0m\u001b[0;34m)\u001b[0m\u001b[0;34m:\u001b[0m\u001b[0;34m\u001b[0m\u001b[0;34m\u001b[0m\u001b[0m\n\u001b[1;32m     32\u001b[0m         \u001b[0minputs\u001b[0m \u001b[0;34m=\u001b[0m \u001b[0mtorch\u001b[0m\u001b[0;34m.\u001b[0m\u001b[0mcat\u001b[0m\u001b[0;34m(\u001b[0m\u001b[0;34m[\u001b[0m\u001b[0mx\u001b[0m\u001b[0;34m,\u001b[0m\u001b[0mt\u001b[0m\u001b[0;34m]\u001b[0m\u001b[0;34m,\u001b[0m\u001b[0maxis\u001b[0m\u001b[0;34m=\u001b[0m\u001b[0;36m1\u001b[0m\u001b[0;34m)\u001b[0m \u001b[0;31m# combined two arrays of 1 columns each to one array of 2 columns\u001b[0m\u001b[0;34m\u001b[0m\u001b[0;34m\u001b[0m\u001b[0m\n\u001b[0;32m---> 33\u001b[0;31m         \u001b[0mlayer1_out\u001b[0m \u001b[0;34m=\u001b[0m \u001b[0mtorch\u001b[0m\u001b[0;34m.\u001b[0m\u001b[0mtanh\u001b[0m\u001b[0;34m(\u001b[0m\u001b[0mself\u001b[0m\u001b[0;34m.\u001b[0m\u001b[0mhidden_layer1\u001b[0m\u001b[0;34m(\u001b[0m\u001b[0minputs\u001b[0m\u001b[0;34m)\u001b[0m\u001b[0;34m)\u001b[0m\u001b[0;34m\u001b[0m\u001b[0;34m\u001b[0m\u001b[0m\n\u001b[0m\u001b[1;32m     34\u001b[0m         \u001b[0mlayer2_out\u001b[0m \u001b[0;34m=\u001b[0m \u001b[0mtorch\u001b[0m\u001b[0;34m.\u001b[0m\u001b[0mtanh\u001b[0m\u001b[0;34m(\u001b[0m\u001b[0mself\u001b[0m\u001b[0;34m.\u001b[0m\u001b[0mhidden_layer2\u001b[0m\u001b[0;34m(\u001b[0m\u001b[0mlayer1_out\u001b[0m\u001b[0;34m)\u001b[0m\u001b[0;34m)\u001b[0m\u001b[0;34m\u001b[0m\u001b[0;34m\u001b[0m\u001b[0m\n\u001b[1;32m     35\u001b[0m         \u001b[0mlayer3_out\u001b[0m \u001b[0;34m=\u001b[0m \u001b[0mtorch\u001b[0m\u001b[0;34m.\u001b[0m\u001b[0mtanh\u001b[0m\u001b[0;34m(\u001b[0m\u001b[0mself\u001b[0m\u001b[0;34m.\u001b[0m\u001b[0mhidden_layer3\u001b[0m\u001b[0;34m(\u001b[0m\u001b[0mlayer2_out\u001b[0m\u001b[0;34m)\u001b[0m\u001b[0;34m)\u001b[0m\u001b[0;34m\u001b[0m\u001b[0;34m\u001b[0m\u001b[0m\n",
            "\u001b[0;31mKeyboardInterrupt\u001b[0m: "
          ]
        }
      ]
    },
    {
      "cell_type": "code",
      "source": [
        "\n",
        "def graph_sol3D():\n",
        "  fig = plt.figure()\n",
        "  ax = fig.gca(projection='3d')\n",
        "  surf = ax.plot_surface(ms_x1,ms_x2,np.abs(ms_u), cmap=cm.coolwarm,linewidth=0, antialiased=False)\n",
        "  ax.zaxis.set_major_locator(LinearLocator(10))\n",
        "  ax.zaxis.set_major_formatter(FormatStrFormatter('%.02f'))\n",
        "  fig.colorbar(surf, shrink=0.5, aspect=5)\n",
        "  plt.show()\n",
        "\n",
        "def graph_sol2D():\n",
        "  fig_1 = plt.figure(1, figsize=(18, 5))\n",
        "  plt.subplot(1, 3, 1)\n",
        "  plt.pcolor(ms_x1, ms_x2, usol, cmap='jet')\n",
        "  plt.colorbar()\n",
        "  plt.xlabel(r'$x_1$', fontsize=18)\n",
        "  plt.ylabel(r'$x_2$', fontsize=18)\n",
        "  plt.title('Analytical Solution $u(x1,x2)$', fontsize=15)\n",
        "\n",
        "  #Prediction\n",
        "  plt.subplot(1, 3, 2)\n",
        "  plt.pcolor(ms_x1, ms_x2, np.abs(ms_u), cmap='jet')\n",
        "  plt.colorbar()\n",
        "  plt.xlabel(r'$x_1$', fontsize=18)\n",
        "  plt.ylabel(r'$x_2$', fontsize=18)\n",
        "  plt.title('Predicted $NN(x_1,x_2)$', fontsize=15)\n",
        "\n",
        "  # Error\n",
        "  plt.subplot(1, 3, 3)\n",
        "  plt.pcolor(ms_x1, ms_x2, np.abs(usol - np.abs(ms_u)), cmap='jet')\n",
        "  plt.colorbar()\n",
        "  plt.xlabel(r'$x_1$', fontsize=18)\n",
        "  plt.ylabel(r'$x_2$', fontsize=18)\n",
        "  plt.title(r'Absolute error $|u(x_1,x_2)- NN(x_1,x_2)|$', fontsize=15)\n",
        "  #plt.tight_layout()"
      ],
      "metadata": {
        "id": "j7IDKua8-gmp"
      },
      "execution_count": null,
      "outputs": []
    },
    {
      "cell_type": "code",
      "execution_count": null,
      "metadata": {
        "id": "USGrdKvh4Qv9"
      },
      "outputs": [],
      "source": [
        "from mpl_toolkits.mplot3d import Axes3D\n",
        "import matplotlib.pyplot as plt\n",
        "from matplotlib import cm\n",
        "from matplotlib.ticker import LinearLocator, FormatStrFormatter\n",
        "import numpy as np\n",
        "x1=np.arange(-1,1,0.01)\n",
        "x2=x1\n",
        "ms_x1, ms_x2 = np.meshgrid(x1, x2)\n",
        "## Just because meshgrid is used, we need to do the following adjustment\n",
        "#ms_x1, ms_x2=X2,Y2\n",
        "x1 = np.ravel(ms_x1).reshape(-1,1)\n",
        "x2 = np.ravel(ms_x2).reshape(-1,1)\n",
        "#true solution\n",
        "usol = np.sin(a_1 * np.pi *ms_x1) * np.sin(a_2 * np.pi * ms_x2) #solution chosen for convinience  \n",
        "#u_true = usol.flatten('F')[:,None]\n",
        " \n",
        "pt_x1 = Variable(torch.from_numpy(x1).float(), requires_grad=True).to(device)\n",
        "pt_x2 = Variable(torch.from_numpy(x2).float(), requires_grad=True).to(device)\n",
        "\n",
        "x3 = np.ravel(X2).reshape(-1,1)\n",
        "x4 = np.ravel(Y2).reshape(-1,1)\n",
        "\n",
        "pt_x3 = Variable(torch.from_numpy(x3).float(), requires_grad=True).to(device)\n",
        "pt_x4 = Variable(torch.from_numpy(x4).float(), requires_grad=True).to(device)\n",
        "\n",
        "pt_u = net(pt_x1,pt_x2)\n",
        "#pt_u = net(pt_x3,pt_x4)\n",
        "\n",
        "u=pt_u.data.cpu().numpy()\n",
        "ms_u = u.reshape(ms_x1.shape)\n",
        "#ms_u = u.reshape(X2.shape)\n",
        "\n",
        "\n",
        "def graph_sol3D():\n",
        "  fig = plt.figure()\n",
        "  ax = fig.gca(projection='3d')\n",
        "  surf = ax.plot_surface(ms_x1,ms_x2,np.abs(ms_u), cmap=cm.coolwarm,linewidth=0, antialiased=False)\n",
        "  ax.zaxis.set_major_locator(LinearLocator(10))\n",
        "  ax.zaxis.set_major_formatter(FormatStrFormatter('%.02f'))\n",
        "  fig.colorbar(surf, shrink=0.5, aspect=5)\n",
        "  plt.show()\n",
        "\n",
        "def graph_sol2D():\n",
        "  fig_1 = plt.figure(1, figsize=(18, 5))\n",
        "  plt.subplot(1, 3, 1)\n",
        "  plt.pcolor(ms_x1, ms_x2, usol, cmap='jet')\n",
        "  plt.colorbar()\n",
        "  plt.xlabel(r'$x_1$', fontsize=18)\n",
        "  plt.ylabel(r'$x_2$', fontsize=18)\n",
        "  plt.title('Analytical Solution $u(x1,x2)$', fontsize=15)\n",
        "\n",
        "  #Prediction\n",
        "  plt.subplot(1, 3, 2)\n",
        "  plt.pcolor(ms_x1, ms_x2, np.abs(ms_u), cmap='jet')\n",
        "  plt.colorbar()\n",
        "  plt.xlabel(r'$x_1$', fontsize=18)\n",
        "  plt.ylabel(r'$x_2$', fontsize=18)\n",
        "  plt.title('Predicted $NN(x_1,x_2)$', fontsize=15)\n",
        "\n",
        "  # Error\n",
        "  plt.subplot(1, 3, 3)\n",
        "  plt.pcolor(ms_x1, ms_x2, np.abs(usol - np.abs(ms_u)), cmap='jet')\n",
        "  plt.colorbar()\n",
        "  plt.xlabel(r'$x_1$', fontsize=18)\n",
        "  plt.ylabel(r'$x_2$', fontsize=18)\n",
        "  plt.title(r'Absolute error $|u(x_1,x_2)- NN(x_1,x_2)|$', fontsize=15)\n",
        "  #plt.tight_layout()\n"
      ]
    },
    {
      "cell_type": "code",
      "execution_count": null,
      "metadata": {
        "id": "pU0m9KaQkcbA"
      },
      "outputs": [],
      "source": [
        "\n",
        "plt.plot(pt_x_fem1,q)\n"
      ]
    },
    {
      "cell_type": "code",
      "execution_count": null,
      "metadata": {
        "colab": {
          "base_uri": "https://localhost:8080/"
        },
        "id": "0JY_lwoUPb-8",
        "outputId": "47ad840f-5ee6-4380-99a3-47c8a0619094"
      },
      "outputs": [
        {
          "output_type": "stream",
          "name": "stderr",
          "text": [
            "/usr/local/lib/python3.8/dist-packages/torch/nn/modules/loss.py:530: UserWarning: Using a target size (torch.Size([3435])) that is different to the input size (torch.Size([3435, 1])). This will likely lead to incorrect results due to broadcasting. Please ensure they have the same size.\n",
            "  return F.mse_loss(input, target, reduction=self.reduction)\n",
            "<ipython-input-11-90b90438fc42>:13: UserWarning: To copy construct from a tensor, it is recommended to use sourceTensor.clone().detach() or sourceTensor.clone().detach().requires_grad_(True), rather than torch.tensor(sourceTensor).\n",
            "  q= mu*(2*torch.tensor(x)**2 + torch.tensor(torch.exp(t)))\n",
            "/usr/local/lib/python3.8/dist-packages/torch/nn/modules/loss.py:530: UserWarning: Using a target size (torch.Size([3435])) that is different to the input size (torch.Size([3435, 3435])). This will likely lead to incorrect results due to broadcasting. Please ensure they have the same size.\n",
            "  return F.mse_loss(input, target, reduction=self.reduction)\n"
          ]
        },
        {
          "output_type": "stream",
          "name": "stdout",
          "text": [
            "0 Traning Loss: tensor(0.0984)\n",
            "1 Traning Loss: tensor(0.0599)\n",
            "2 Traning Loss: tensor(0.0314)\n",
            "3 Traning Loss: tensor(0.0129)\n"
          ]
        },
        {
          "output_type": "stream",
          "name": "stderr",
          "text": [
            "/usr/local/lib/python3.8/dist-packages/torch/nn/modules/loss.py:530: UserWarning: Using a target size (torch.Size([3435])) that is different to the input size (torch.Size([3435, 1])). This will likely lead to incorrect results due to broadcasting. Please ensure they have the same size.\n",
            "  return F.mse_loss(input, target, reduction=self.reduction)\n",
            "<ipython-input-11-90b90438fc42>:13: UserWarning: To copy construct from a tensor, it is recommended to use sourceTensor.clone().detach() or sourceTensor.clone().detach().requires_grad_(True), rather than torch.tensor(sourceTensor).\n",
            "  q= mu*(2*torch.tensor(x)**2 + torch.tensor(torch.exp(t)))\n",
            "/usr/local/lib/python3.8/dist-packages/torch/nn/modules/loss.py:530: UserWarning: Using a target size (torch.Size([3435])) that is different to the input size (torch.Size([3435, 3435])). This will likely lead to incorrect results due to broadcasting. Please ensure they have the same size.\n",
            "  return F.mse_loss(input, target, reduction=self.reduction)\n"
          ]
        },
        {
          "output_type": "stream",
          "name": "stdout",
          "text": [
            "4 Traning Loss: tensor(0.0041)\n",
            "5 Traning Loss: tensor(0.0035)\n"
          ]
        },
        {
          "output_type": "stream",
          "name": "stderr",
          "text": [
            "/usr/local/lib/python3.8/dist-packages/torch/nn/modules/loss.py:530: UserWarning: Using a target size (torch.Size([3435])) that is different to the input size (torch.Size([3435, 3435])). This will likely lead to incorrect results due to broadcasting. Please ensure they have the same size.\n",
            "  return F.mse_loss(input, target, reduction=self.reduction)\n",
            "/usr/local/lib/python3.8/dist-packages/torch/nn/modules/loss.py:530: UserWarning: Using a target size (torch.Size([3435])) that is different to the input size (torch.Size([3435, 1])). This will likely lead to incorrect results due to broadcasting. Please ensure they have the same size.\n",
            "  return F.mse_loss(input, target, reduction=self.reduction)\n",
            "<ipython-input-11-90b90438fc42>:13: UserWarning: To copy construct from a tensor, it is recommended to use sourceTensor.clone().detach() or sourceTensor.clone().detach().requires_grad_(True), rather than torch.tensor(sourceTensor).\n",
            "  q= mu*(2*torch.tensor(x)**2 + torch.tensor(torch.exp(t)))\n",
            "<ipython-input-11-90b90438fc42>:13: UserWarning: To copy construct from a tensor, it is recommended to use sourceTensor.clone().detach() or sourceTensor.clone().detach().requires_grad_(True), rather than torch.tensor(sourceTensor).\n",
            "  q= mu*(2*torch.tensor(x)**2 + torch.tensor(torch.exp(t)))\n"
          ]
        },
        {
          "output_type": "stream",
          "name": "stdout",
          "text": [
            "6 Traning Loss: tensor(0.0083)\n",
            "7 Traning Loss: tensor(0.0142)\n",
            "8 Traning Loss: tensor(0.0180)\n",
            "9 Traning Loss: tensor(0.0183)\n",
            "10 Traning Loss: tensor(0.0160)\n"
          ]
        },
        {
          "output_type": "stream",
          "name": "stderr",
          "text": [
            "/usr/local/lib/python3.8/dist-packages/torch/nn/modules/loss.py:530: UserWarning: Using a target size (torch.Size([3435])) that is different to the input size (torch.Size([3435, 3435])). This will likely lead to incorrect results due to broadcasting. Please ensure they have the same size.\n",
            "  return F.mse_loss(input, target, reduction=self.reduction)\n",
            "/usr/local/lib/python3.8/dist-packages/torch/nn/modules/loss.py:530: UserWarning: Using a target size (torch.Size([3435])) that is different to the input size (torch.Size([3435, 1])). This will likely lead to incorrect results due to broadcasting. Please ensure they have the same size.\n",
            "  return F.mse_loss(input, target, reduction=self.reduction)\n",
            "<ipython-input-11-90b90438fc42>:3: UserWarning: To copy construct from a tensor, it is recommended to use sourceTensor.clone().detach() or sourceTensor.clone().detach().requires_grad_(True), rather than torch.tensor(sourceTensor).\n",
            "  u = net(x,t) # the dependent variable u is given by the network based on independent variables x,t\n"
          ]
        },
        {
          "output_type": "stream",
          "name": "stdout",
          "text": [
            "11 Traning Loss: tensor(0.0122)\n",
            "12 Traning Loss: tensor(0.0081)\n"
          ]
        },
        {
          "output_type": "stream",
          "name": "stderr",
          "text": [
            "/usr/local/lib/python3.8/dist-packages/torch/nn/modules/loss.py:530: UserWarning: Using a target size (torch.Size([3435])) that is different to the input size (torch.Size([3435, 3435])). This will likely lead to incorrect results due to broadcasting. Please ensure they have the same size.\n",
            "  return F.mse_loss(input, target, reduction=self.reduction)\n",
            "/usr/local/lib/python3.8/dist-packages/torch/nn/modules/loss.py:530: UserWarning: Using a target size (torch.Size([3435])) that is different to the input size (torch.Size([3435, 1])). This will likely lead to incorrect results due to broadcasting. Please ensure they have the same size.\n",
            "  return F.mse_loss(input, target, reduction=self.reduction)\n",
            "<ipython-input-11-90b90438fc42>:13: UserWarning: To copy construct from a tensor, it is recommended to use sourceTensor.clone().detach() or sourceTensor.clone().detach().requires_grad_(True), rather than torch.tensor(sourceTensor).\n",
            "  q= mu*(2*torch.tensor(x)**2 + torch.tensor(torch.exp(t)))\n"
          ]
        },
        {
          "output_type": "stream",
          "name": "stdout",
          "text": [
            "13 Traning Loss: tensor(0.0047)\n",
            "14 Traning Loss: tensor(0.0025)\n",
            "15 Traning Loss: tensor(0.0015)\n",
            "16 Traning Loss: tensor(0.0015)\n",
            "17 Traning Loss: tensor(0.0022)\n"
          ]
        },
        {
          "output_type": "stream",
          "name": "stderr",
          "text": [
            "/usr/local/lib/python3.8/dist-packages/torch/nn/modules/loss.py:530: UserWarning: Using a target size (torch.Size([3435])) that is different to the input size (torch.Size([3435, 3435])). This will likely lead to incorrect results due to broadcasting. Please ensure they have the same size.\n",
            "  return F.mse_loss(input, target, reduction=self.reduction)\n",
            "/usr/local/lib/python3.8/dist-packages/torch/nn/modules/loss.py:530: UserWarning: Using a target size (torch.Size([3435])) that is different to the input size (torch.Size([3435, 1])). This will likely lead to incorrect results due to broadcasting. Please ensure they have the same size.\n",
            "  return F.mse_loss(input, target, reduction=self.reduction)\n",
            "<ipython-input-11-90b90438fc42>:13: UserWarning: To copy construct from a tensor, it is recommended to use sourceTensor.clone().detach() or sourceTensor.clone().detach().requires_grad_(True), rather than torch.tensor(sourceTensor).\n",
            "  q= mu*(2*torch.tensor(x)**2 + torch.tensor(torch.exp(t)))\n"
          ]
        },
        {
          "output_type": "stream",
          "name": "stdout",
          "text": [
            "18 Traning Loss: tensor(0.0031)\n",
            "19 Traning Loss: tensor(0.0040)\n",
            "20 Traning Loss: tensor(0.0046)\n",
            "21 Traning Loss: tensor(0.0048)\n",
            "22 Traning Loss: tensor(0.0045)\n"
          ]
        },
        {
          "output_type": "stream",
          "name": "stderr",
          "text": [
            "<ipython-input-11-90b90438fc42>:3: UserWarning: To copy construct from a tensor, it is recommended to use sourceTensor.clone().detach() or sourceTensor.clone().detach().requires_grad_(True), rather than torch.tensor(sourceTensor).\n",
            "  u = net(x,t) # the dependent variable u is given by the network based on independent variables x,t\n",
            "/usr/local/lib/python3.8/dist-packages/torch/nn/modules/loss.py:530: UserWarning: Using a target size (torch.Size([3435])) that is different to the input size (torch.Size([3435, 1])). This will likely lead to incorrect results due to broadcasting. Please ensure they have the same size.\n",
            "  return F.mse_loss(input, target, reduction=self.reduction)\n",
            "<ipython-input-11-90b90438fc42>:13: UserWarning: To copy construct from a tensor, it is recommended to use sourceTensor.clone().detach() or sourceTensor.clone().detach().requires_grad_(True), rather than torch.tensor(sourceTensor).\n",
            "  q= mu*(2*torch.tensor(x)**2 + torch.tensor(torch.exp(t)))\n",
            "/usr/local/lib/python3.8/dist-packages/torch/nn/modules/loss.py:530: UserWarning: Using a target size (torch.Size([3435])) that is different to the input size (torch.Size([3435, 3435])). This will likely lead to incorrect results due to broadcasting. Please ensure they have the same size.\n",
            "  return F.mse_loss(input, target, reduction=self.reduction)\n"
          ]
        },
        {
          "output_type": "stream",
          "name": "stdout",
          "text": [
            "23 Traning Loss: tensor(0.0039)\n",
            "24 Traning Loss: tensor(0.0031)\n",
            "25 Traning Loss: tensor(0.0022)\n",
            "26 Traning Loss: tensor(0.0015)\n",
            "27 Traning Loss: tensor(0.0009)\n",
            "28 Traning Loss: tensor(0.0005)\n"
          ]
        },
        {
          "output_type": "stream",
          "name": "stderr",
          "text": [
            "/usr/local/lib/python3.8/dist-packages/torch/nn/modules/loss.py:530: UserWarning: Using a target size (torch.Size([3435])) that is different to the input size (torch.Size([3435, 3435])). This will likely lead to incorrect results due to broadcasting. Please ensure they have the same size.\n",
            "  return F.mse_loss(input, target, reduction=self.reduction)\n",
            "/usr/local/lib/python3.8/dist-packages/torch/nn/modules/loss.py:530: UserWarning: Using a target size (torch.Size([3435])) that is different to the input size (torch.Size([3435, 1])). This will likely lead to incorrect results due to broadcasting. Please ensure they have the same size.\n",
            "  return F.mse_loss(input, target, reduction=self.reduction)\n",
            "<ipython-input-11-90b90438fc42>:13: UserWarning: To copy construct from a tensor, it is recommended to use sourceTensor.clone().detach() or sourceTensor.clone().detach().requires_grad_(True), rather than torch.tensor(sourceTensor).\n",
            "  q= mu*(2*torch.tensor(x)**2 + torch.tensor(torch.exp(t)))\n"
          ]
        },
        {
          "output_type": "stream",
          "name": "stdout",
          "text": [
            "29 Traning Loss: tensor(0.0004)\n",
            "30 Traning Loss: tensor(0.0005)\n",
            "31 Traning Loss: tensor(0.0008)\n"
          ]
        },
        {
          "output_type": "stream",
          "name": "stderr",
          "text": [
            "/usr/local/lib/python3.8/dist-packages/torch/nn/modules/loss.py:530: UserWarning: Using a target size (torch.Size([3435])) that is different to the input size (torch.Size([3435, 1])). This will likely lead to incorrect results due to broadcasting. Please ensure they have the same size.\n",
            "  return F.mse_loss(input, target, reduction=self.reduction)\n",
            "<ipython-input-11-90b90438fc42>:13: UserWarning: To copy construct from a tensor, it is recommended to use sourceTensor.clone().detach() or sourceTensor.clone().detach().requires_grad_(True), rather than torch.tensor(sourceTensor).\n",
            "  q= mu*(2*torch.tensor(x)**2 + torch.tensor(torch.exp(t)))\n",
            "/usr/local/lib/python3.8/dist-packages/torch/nn/modules/loss.py:530: UserWarning: Using a target size (torch.Size([3435])) that is different to the input size (torch.Size([3435, 3435])). This will likely lead to incorrect results due to broadcasting. Please ensure they have the same size.\n",
            "  return F.mse_loss(input, target, reduction=self.reduction)\n"
          ]
        },
        {
          "output_type": "stream",
          "name": "stdout",
          "text": [
            "32 Traning Loss: tensor(0.0010)\n",
            "33 Traning Loss: tensor(0.0012)\n"
          ]
        },
        {
          "output_type": "stream",
          "name": "stderr",
          "text": [
            "/usr/local/lib/python3.8/dist-packages/torch/nn/modules/loss.py:530: UserWarning: Using a target size (torch.Size([3435])) that is different to the input size (torch.Size([3435, 3435])). This will likely lead to incorrect results due to broadcasting. Please ensure they have the same size.\n",
            "  return F.mse_loss(input, target, reduction=self.reduction)\n",
            "/usr/local/lib/python3.8/dist-packages/torch/nn/modules/loss.py:530: UserWarning: Using a target size (torch.Size([3435])) that is different to the input size (torch.Size([3435, 1])). This will likely lead to incorrect results due to broadcasting. Please ensure they have the same size.\n",
            "  return F.mse_loss(input, target, reduction=self.reduction)\n",
            "<ipython-input-11-90b90438fc42>:13: UserWarning: To copy construct from a tensor, it is recommended to use sourceTensor.clone().detach() or sourceTensor.clone().detach().requires_grad_(True), rather than torch.tensor(sourceTensor).\n",
            "  q= mu*(2*torch.tensor(x)**2 + torch.tensor(torch.exp(t)))\n"
          ]
        },
        {
          "output_type": "stream",
          "name": "stdout",
          "text": [
            "34 Traning Loss: tensor(0.0013)\n",
            "35 Traning Loss: tensor(0.0012)\n",
            "36 Traning Loss: tensor(0.0010)\n",
            "37 Traning Loss: tensor(0.0008)\n",
            "38 Traning Loss: tensor(0.0006)\n"
          ]
        },
        {
          "output_type": "stream",
          "name": "stderr",
          "text": [
            "/usr/local/lib/python3.8/dist-packages/torch/nn/modules/loss.py:530: UserWarning: Using a target size (torch.Size([3435])) that is different to the input size (torch.Size([3435, 1])). This will likely lead to incorrect results due to broadcasting. Please ensure they have the same size.\n",
            "  return F.mse_loss(input, target, reduction=self.reduction)\n",
            "<ipython-input-11-90b90438fc42>:13: UserWarning: To copy construct from a tensor, it is recommended to use sourceTensor.clone().detach() or sourceTensor.clone().detach().requires_grad_(True), rather than torch.tensor(sourceTensor).\n",
            "  q= mu*(2*torch.tensor(x)**2 + torch.tensor(torch.exp(t)))\n",
            "/usr/local/lib/python3.8/dist-packages/torch/nn/modules/loss.py:530: UserWarning: Using a target size (torch.Size([3435])) that is different to the input size (torch.Size([3435, 3435])). This will likely lead to incorrect results due to broadcasting. Please ensure they have the same size.\n",
            "  return F.mse_loss(input, target, reduction=self.reduction)\n",
            "/usr/local/lib/python3.8/dist-packages/torch/nn/modules/loss.py:530: UserWarning: Using a target size (torch.Size([3435])) that is different to the input size (torch.Size([3435, 3435])). This will likely lead to incorrect results due to broadcasting. Please ensure they have the same size.\n",
            "  return F.mse_loss(input, target, reduction=self.reduction)\n",
            "/usr/local/lib/python3.8/dist-packages/torch/nn/modules/loss.py:530: UserWarning: Using a target size (torch.Size([3435])) that is different to the input size (torch.Size([3435, 1])). This will likely lead to incorrect results due to broadcasting. Please ensure they have the same size.\n",
            "  return F.mse_loss(input, target, reduction=self.reduction)\n",
            "<ipython-input-11-90b90438fc42>:13: UserWarning: To copy construct from a tensor, it is recommended to use sourceTensor.clone().detach() or sourceTensor.clone().detach().requires_grad_(True), rather than torch.tensor(sourceTensor).\n",
            "  q= mu*(2*torch.tensor(x)**2 + torch.tensor(torch.exp(t)))\n"
          ]
        },
        {
          "output_type": "stream",
          "name": "stdout",
          "text": [
            "39 Traning Loss: tensor(0.0003)\n",
            "40 Traning Loss: tensor(0.0002)\n",
            "41 Traning Loss: tensor(0.0001)\n",
            "42 Traning Loss: tensor(0.0002)\n"
          ]
        },
        {
          "output_type": "stream",
          "name": "stderr",
          "text": [
            "/usr/local/lib/python3.8/dist-packages/torch/nn/modules/loss.py:530: UserWarning: Using a target size (torch.Size([3435])) that is different to the input size (torch.Size([3435, 3435])). This will likely lead to incorrect results due to broadcasting. Please ensure they have the same size.\n",
            "  return F.mse_loss(input, target, reduction=self.reduction)\n",
            "/usr/local/lib/python3.8/dist-packages/torch/nn/modules/loss.py:530: UserWarning: Using a target size (torch.Size([3435])) that is different to the input size (torch.Size([3435, 1])). This will likely lead to incorrect results due to broadcasting. Please ensure they have the same size.\n",
            "  return F.mse_loss(input, target, reduction=self.reduction)\n",
            "<ipython-input-11-90b90438fc42>:13: UserWarning: To copy construct from a tensor, it is recommended to use sourceTensor.clone().detach() or sourceTensor.clone().detach().requires_grad_(True), rather than torch.tensor(sourceTensor).\n",
            "  q= mu*(2*torch.tensor(x)**2 + torch.tensor(torch.exp(t)))\n"
          ]
        },
        {
          "output_type": "stream",
          "name": "stdout",
          "text": [
            "43 Traning Loss: tensor(0.0002)\n",
            "44 Traning Loss: tensor(0.0003)\n",
            "45 Traning Loss: tensor(0.0004)\n",
            "46 Traning Loss: tensor(0.0004)\n",
            "47 Traning Loss: tensor(0.0004)\n",
            "48 Traning Loss: tensor(0.0003)\n",
            "49 Traning Loss: tensor(0.0003)\n"
          ]
        }
      ],
      "source": [
        "TRAINING(5000);  "
      ]
    },
    {
      "cell_type": "code",
      "execution_count": null,
      "metadata": {
        "colab": {
          "base_uri": "https://localhost:8080/",
          "height": 248
        },
        "id": "5sVZgw_E84lK",
        "outputId": "32060dbe-e257-451a-d349-cc2842a1dca6"
      },
      "outputs": [
        {
          "output_type": "display_data",
          "data": {
            "text/plain": [
              "<Figure size 432x288 with 2 Axes>"
            ],
            "image/png": "[encoded data removed]"
          },
          "metadata": {
            "needs_background": "light"
          }
        }
      ],
      "source": [
        "graph_sol3D()\n",
        "graph_sol2D()"
      ]
    },
    {
      "cell_type": "code",
      "execution_count": null,
      "metadata": {
        "id": "eYGhVDHP9J9g"
      },
      "outputs": [],
      "source": [
        "import matplotlib.pyplot as plt\n",
        "\n",
        "#pt_x_fem1 = Variable(torch.from_numpy(x3).float(), requires_grad=False).to(device) \n",
        "#pt_x_fem2= Variable(torch.from_numpy(x4).float(), requires_grad=False).to(device)\n",
        "\n",
        "fig = plt.figure(figsize=(9,6))\n",
        "#plt.scatter(t_0, x_0, c=u_0, marker='X', vmin=-1, vmax=1)\n",
        "#plt.scatter(x_bc, t_bc, marker='X', vmin=-1, vmax=1)\n",
        "plt.scatter(x3, x4, c='r', marker='.', alpha=0.1)\n",
        "plt.xlabel('$x1$')\n",
        "plt.ylabel('$x2$')\n",
        "\n",
        "plt.title('Positions of mesh_s nodes');"
      ]
    },
    {
      "cell_type": "code",
      "execution_count": null,
      "metadata": {
        "id": "EyWAHc3NZbNc",
        "colab": {
          "base_uri": "https://localhost:8080/"
        },
        "outputId": "be53d287-a99c-456c-9cc4-b7a1f8c29998"
      },
      "outputs": [
        {
          "output_type": "execute_result",
          "data": {
            "text/plain": [
              "torch.Size([111556, 3435])"
            ]
          },
          "metadata": {},
          "execution_count": 51
        }
      ],
      "source": [
        "(net(pt_x1,pt_x2)*pt_z).shape\n"
      ]
    },
    {
      "cell_type": "code",
      "execution_count": null,
      "metadata": {
        "id": "i3YLCxqxrPdz"
      },
      "outputs": [],
      "source": [
        "pt_z"
      ]
    },
    {
      "cell_type": "code",
      "execution_count": null,
      "metadata": {
        "id": "EPgXUoQ4Y898"
      },
      "outputs": [],
      "source": [
        "#Ici je recupere les resultats etat et je les importes côté matlab\n",
        "#Enregistrer mon fichier sur colab\n",
        "from google.colab import drive\n",
        "drive.mount('/content/gdrive')\n",
        "\n",
        "#Verifier quels fichiers ont été enregistrer\n",
        "import os\n",
        "#print( os.getcwd() )\n",
        "print( os.listdir() )\n",
        "\n",
        "# save to csv file\n",
        "np.savetxt('pinn_eta.csv', ms_u, delimiter=',')\n",
        "print( os.listdir() )\n",
        "#Telecharger mon fichier\n",
        "from google.colab import files\n",
        "files.download( \"pinn_eta.csv\" )"
      ]
    },
    {
      "cell_type": "code",
      "execution_count": null,
      "metadata": {
        "id": "lDdXoPQoes85"
      },
      "outputs": [],
      "source": [
        "#exportation points de colocation 1 pour interpolation fem\n",
        "#Enregistrer mon fichier sur colab\n",
        "from google.colab import drive\n",
        "drive.mount('/content/gdrive')\n",
        "\n",
        "#Verifier quels fichiers ont été enregistrer\n",
        "import os\n",
        "#print( os.getcwd() )\n",
        "print( os.listdir() )\n",
        "\n",
        "# save to csv file\n",
        "np.savetxt('grid1.csv', ms_x1, delimiter=',')\n",
        "print( os.listdir() )\n",
        "#Telecharger mon fichier\n",
        "from google.colab import files\n",
        "files.download( \"grid1.csv\" )"
      ]
    },
    {
      "cell_type": "code",
      "execution_count": null,
      "metadata": {
        "id": "-4PNYK7jg_ww"
      },
      "outputs": [],
      "source": [
        "#exportation points de colocation 2 pour interpolation fem\n",
        "#Enregistrer mon fichier sur colab\n",
        "from google.colab import drive\n",
        "drive.mount('/content/gdrive')\n",
        "\n",
        "#Verifier quels fichiers ont été enregistrer\n",
        "import os\n",
        "#print( os.getcwd() )\n",
        "print( os.listdir() )\n",
        "\n",
        "# save to csv file\n",
        "np.savetxt('grid2.csv', ms_x2, delimiter=',')\n",
        "print( os.listdir() )\n",
        "#Telecharger mon fichier\n",
        "from google.colab import files\n",
        "files.download( \"grid2.csv\" )"
      ]
    },
    {
      "cell_type": "code",
      "execution_count": null,
      "metadata": {
        "id": "VwM97ogWg15l"
      },
      "outputs": [],
      "source": [
        "ms_x1-ms_x2"
      ]
    },
    {
      "cell_type": "code",
      "execution_count": null,
      "metadata": {
        "id": "icac30Je4xd5"
      },
      "outputs": [],
      "source": []
    },
    {
      "cell_type": "code",
      "execution_count": null,
      "metadata": {
        "id": "0hi-eYfcAFr8"
      },
      "outputs": [],
      "source": [
        "    pt_bc, u_bc = training_bc(100)\n",
        "    #x_bc,t_bc = pt_bc[:,0],pt_bc[:,1] pas bon ici, il nous faut un format ligne colonne\n",
        "    #np.transpose(np.array([pt_bc[:,0]])) on applique cette transformation pour convertir\n",
        "    x_bc,t_bc = np.transpose(np.array([pt_bc[:,0]])),np.transpose(np.array([pt_bc[:,1]]))"
      ]
    },
    {
      "cell_type": "code",
      "execution_count": null,
      "metadata": {
        "id": "Wqhpxm-zcIf2"
      },
      "outputs": [],
      "source": [
        "#je prends ces résultats et je les projette surnun maillage EF"
      ]
    },
    {
      "cell_type": "code",
      "execution_count": null,
      "metadata": {
        "id": "s_8b1cBC52nX"
      },
      "outputs": [],
      "source": [
        "#essai de la fonction interpolation\n",
        "from scipy.interpolate import LSQSphereBivariateSpline\n",
        "import matplotlib.pyplot as plt"
      ]
    },
    {
      "cell_type": "code",
      "execution_count": null,
      "metadata": {
        "id": "hpLIZLeu7UpZ"
      },
      "outputs": [],
      "source": [
        "theta = np.linspace(0, np.pi, num=7)\n",
        "phi = np.linspace(0, 2*np.pi, num=9)\n",
        "data = np.empty((theta.shape[0], phi.shape[0]))\n",
        "data[:,0], data[0,:], data[-1,:] = 0., 0., 0.\n",
        "data[1:-1,1], data[1:-1,-1] = 1., 1.\n",
        "data[1,1:-1], data[-2,1:-1] = 1., 1.\n",
        "data[2:-2,2], data[2:-2,-2] = 2., 2.\n",
        "data[2,2:-2], data[-3,2:-2] = 2., 2.\n",
        "data[3,3:-2] = 3.\n",
        "data = np.roll(data, 4, 1)\n",
        "\n",
        "\n",
        "lats, lons = np.meshgrid(theta, phi)\n",
        "knotst, knotsp = theta.copy(), phi.copy()\n",
        "knotst[0] += .0001\n",
        "knotst[-1] -= .0001\n",
        "knotsp[0] += .0001\n",
        "knotsp[-1] -= .0001\n",
        "lut = LSQSphereBivariateSpline(lats.ravel(), lons.ravel(), data.T.ravel(), knotst, knotsp)\n",
        "#lut(x, y) evalue l'interpolation de data sur les cordonées x et y\n",
        "#lut(theta, phi) ex ici en theta et phi"
      ]
    },
    {
      "cell_type": "code",
      "execution_count": null,
      "metadata": {
        "id": "MWFrFSPA7sHd"
      },
      "outputs": [],
      "source": [
        "#data-lut(theta, phi)\n",
        "lut(theta, phi).shape, theta.shape, phi.shape\n"
      ]
    },
    {
      "cell_type": "code",
      "execution_count": null,
      "metadata": {
        "id": "sM6CidFHLOQQ"
      },
      "outputs": [],
      "source": [
        "lut(x3, x4)"
      ]
    },
    {
      "cell_type": "code",
      "execution_count": null,
      "metadata": {
        "id": "zj98mAXB8P12"
      },
      "outputs": [],
      "source": [
        "data = np.roll(data, 4, 1)\n",
        "data.shape\n",
        "data"
      ]
    },
    {
      "cell_type": "code",
      "execution_count": null,
      "metadata": {
        "id": "jugImaUwcJb1"
      },
      "outputs": [],
      "source": [
        "#Fonction d'interpolation des points de colocations pinns vers le maillage EF\n",
        "#coloc=colocations\n",
        "eta_coloc=nn_out\n",
        "\n",
        "#on supperpose les points de colocations Pinn et les noeuds de maillage Fem.\n",
        "#Pour trouver les valeurs de NN_out dans le maillage fem on interpole.\n",
        "#chaque noeuds FEM sera le centre d'un cercle et tous les pts de coloc qui se trouvent dans ce cercle seront \n",
        "#combinés linéairement pour créer une moyenne pondérée par la distance au centre du cercle.\n",
        "\n",
        "def interpolation(eta_coloc,coloc,maillage_ef):\n",
        "  return eta_mesh"
      ]
    },
    {
      "cell_type": "code",
      "execution_count": null,
      "metadata": {
        "id": "WmjflrNgeYnH"
      },
      "outputs": [],
      "source": [
        "import matplotlib.pyplot as plt\n",
        "\n",
        "#x = [1,2,3,4,5,6,7,8]\n",
        "#y = [4,1,3,6,1,3,5,2]\n",
        "x,y=x3,x4\n",
        "plt.scatter(x,y)\n",
        "\n",
        "plt.title('Nuage de points avec Matplotlib')\n",
        "plt.xlabel('x')\n",
        "plt.ylabel('y')\n",
        "\n",
        "#plt.savefig('ScatterPlot_01.png')\n",
        "plt.show()"
      ]
    }
  ],
  "metadata": {
    "colab": {
      "provenance": [],
      "include_colab_link": true
    },
    "gpuClass": "standard",
    "kernelspec": {
      "display_name": "Python 3",
      "name": "python3"
    },
    "language_info": {
      "name": "python"
    }
  },
  "nbformat": 4,
  "nbformat_minor": 0
}